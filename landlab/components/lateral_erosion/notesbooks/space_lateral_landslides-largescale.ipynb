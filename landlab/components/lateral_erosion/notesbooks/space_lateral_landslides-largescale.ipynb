{
 "cells": [
  {
   "cell_type": "markdown",
   "id": "507217c6",
   "metadata": {},
   "source": [
    "# Working example of space + lateral erosion + landslides\n",
    "<hr>\n",
    "\n"
   ]
  },
  {
   "cell_type": "code",
   "execution_count": 1,
   "id": "e53034ce",
   "metadata": {},
   "outputs": [],
   "source": [
    "import numpy as np\n",
    "from matplotlib import pyplot as plt\n",
    "from tqdm import tqdm\n",
    "import time\n",
    "import copy\n",
    "import matplotlib as mpl\n",
    "\n",
    "from landlab import imshow_grid,imshowhs_grid, RasterModelGrid\n",
    "from landlab.components import (\n",
    "    FlowAccumulator,\n",
    "    DepressionFinderAndRouter,\n",
    "    SpaceLargeScaleEroder,\n",
    "    PriorityFloodFlowRouter,\n",
    "    LateralEroderSolo, \n",
    "    FastscapeEroder,\n",
    "    BedrockLandslider\n",
    ")"
   ]
  },
  {
   "cell_type": "markdown",
   "id": "fae64ca0",
   "metadata": {},
   "source": [
    "Below is a fancy plotting function from BC's bedrocklandslides_on_DEMs notebook"
   ]
  },
  {
   "cell_type": "code",
   "execution_count": 2,
   "id": "b35a3f17",
   "metadata": {},
   "outputs": [],
   "source": [
    "def plotting(\n",
    "    grid, topo=True, DA=True, hill_DA=False, flow_metric=\"D8\", hill_flow_metric=\"Quinn\"\n",
    "):\n",
    "    if topo:\n",
    "        cmap = copy.copy(mpl.cm.get_cmap(\"terrain\"))\n",
    "        azdeg = 200\n",
    "        altdeg = 20\n",
    "        ve = 1\n",
    "        plt.figure()\n",
    "        plot_type = \"DEM\"\n",
    "        ax = imshowhs_grid(\n",
    "            grid,\n",
    "            \"topographic__elevation\",\n",
    "            grid_units=(\"deg\", \"deg\"),\n",
    "            var_name=\"Topo, m\",\n",
    "            cmap=cmap,\n",
    "            plot_type=plot_type,\n",
    "            vertical_exa=ve,\n",
    "            azdeg=azdeg,\n",
    "            altdeg=altdeg,\n",
    "            default_fontsize=12,\n",
    "            cbar_tick_size=10,\n",
    "            cbar_width=\"100%\",\n",
    "            cbar_or=\"vertical\",\n",
    "            bbox_to_anchor=[1.03, 0.3, 0.075, 14],\n",
    "            colorbar_label_y=-15,\n",
    "            colorbar_label_x=0.5,\n",
    "            ticks_km=False,\n",
    "        )\n",
    "    if DA:\n",
    "        # %% Plot first instance of drainage_area\n",
    "        grid.at_node[\"drainage_area\"][grid.at_node[\"drainage_area\"] == 0] = (\n",
    "            grid.dx * grid.dx\n",
    "        )\n",
    "        plot_DA = np.log10(grid.at_node[\"drainage_area\"] * 111e3 * 111e3)\n",
    "\n",
    "        plt.figure()\n",
    "        plot_type = \"Drape1\"\n",
    "        drape1 = plot_DA\n",
    "        thres_drape1 = None\n",
    "        alpha = 0.5\n",
    "        myfile1 = \"temperature.cpt\"\n",
    "        cmap1 = copy.copy(mpl.cm.get_cmap(\"terrain\"))\n",
    "        ax = imshowhs_grid(\n",
    "            grid,\n",
    "            \"topographic__elevation\",\n",
    "            grid_units=(\"deg\", \"deg\"),\n",
    "            cmap=cmap1,\n",
    "            plot_type=plot_type,\n",
    "            drape1=drape1,\n",
    "            vertical_exa=ve,\n",
    "            azdeg=azdeg,\n",
    "            altdeg=altdeg,\n",
    "            thres_drape1=thres_drape1,\n",
    "            alpha=alpha,\n",
    "            default_fontsize=12,\n",
    "            cbar_tick_size=10,\n",
    "            var_name=\"$log^{10}DA, m^2$\",\n",
    "            cbar_width=\"100%\",\n",
    "            cbar_or=\"vertical\",\n",
    "            bbox_to_anchor=[1.03, 0.3, 0.075, 14],\n",
    "            colorbar_label_y=+5,\n",
    "            colorbar_label_x=0.5,\n",
    "            ticks_km=False,\n",
    "        )\n",
    "\n",
    "        props = dict(boxstyle=\"round\", facecolor=\"white\", alpha=0.6)\n",
    "        textstr = flow_metric\n",
    "        ax.text(\n",
    "            0.05,\n",
    "            0.95,\n",
    "            textstr,\n",
    "            transform=ax.transAxes,\n",
    "            fontsize=10,\n",
    "            verticalalignment=\"top\",\n",
    "            bbox=props,\n",
    "        )"
   ]
  },
  {
   "cell_type": "markdown",
   "id": "124ca494",
   "metadata": {},
   "source": [
    "Create raster grid with space"
   ]
  },
  {
   "cell_type": "code",
   "execution_count": 3,
   "id": "5f358c25",
   "metadata": {},
   "outputs": [],
   "source": [
    "# nr = 20\n",
    "# nc = 20\n",
    "nr = 75\n",
    "nc = 75\n",
    "xy_spacing = 10.0\n",
    "mg = RasterModelGrid((nr, nc), xy_spacing=xy_spacing)\n",
    "z = mg.add_zeros(\"topographic__elevation\", at=\"node\")\n",
    "mg.at_node[\"topographic__elevation\"][mg.core_nodes] += np.random.rand(\n",
    "    mg.number_of_core_nodes\n",
    ")\n",
    "\n",
    "s = mg.add_zeros(\"soil__depth\", at=\"node\", dtype=float)\n",
    "mg.at_node[\"soil__depth\"][mg.core_nodes] += 0.5\n",
    "mg.at_node[\"topographic__elevation\"] += mg.at_node[\"soil__depth\"]\n",
    "\n",
    "fr = PriorityFloodFlowRouter(mg, flow_metric=\"D8\", update_flow_depressions=True)\n",
    "# fr = PriorityFloodFlowRouter(\n",
    "#     mg,\n",
    "#     surface=\"topographic__elevation\",\n",
    "#     flow_metric=\"D8\",\n",
    "#     suppress_out=True,\n",
    "#     depression_handler=\"fill\",\n",
    "#     accumulate_flow=True,\n",
    "#     separate_hill_flow=True,\n",
    "#     accumulate_flow_hill=True,\n",
    "# )\n",
    "ha = SpaceLargeScaleEroder(mg, K_sed=0.00005, K_br=0.00005, phi=0.3, H_star=1)\n",
    "\n",
    "br = mg.at_node[\"bedrock__elevation\"]\n",
    "z = mg.at_node[\"topographic__elevation\"]\n",
    "\n",
    "space_dt = 500"
   ]
  },
  {
   "cell_type": "code",
   "execution_count": 10,
   "id": "418b93eb",
   "metadata": {},
   "outputs": [
    {
     "name": "stderr",
     "output_type": "stream",
     "text": [
      "100%|████████████████████████████████████████████████████████████████████████████████| 500/500 [00:48<00:00, 10.30it/s]"
     ]
    },
    {
     "name": "stdout",
     "output_type": "stream",
     "text": [
      "Total run time is 49 s\n"
     ]
    },
    {
     "name": "stderr",
     "output_type": "stream",
     "text": [
      "\n"
     ]
    }
   ],
   "source": [
    "z_ori = np.array(z)\n",
    "t1 = time.time()\n",
    "for i in tqdm(range(500)):\n",
    "    # Uplift\n",
    "    br[mg.core_nodes] += 0.001 * space_dt\n",
    "\n",
    "    z[mg.core_nodes] = br[mg.core_nodes] + s[mg.core_nodes]\n",
    "\n",
    "    fr.run_one_step()\n",
    "    ha.run_one_step(dt=space_dt)\n",
    "z_endspace = mg.at_node[\"topographic__elevation\"].copy()\n",
    "s_endspace = mg.at_node[\"soil__depth\"].copy()\n",
    "br_endspace = mg.at_node[\"bedrock__elevation\"].copy()\n",
    "\n",
    "t_span1 = time.time() - t1\n",
    "print('Total run time is %.f s' %t_span1)"
   ]
  },
  {
   "cell_type": "code",
   "execution_count": 5,
   "id": "97b13224",
   "metadata": {},
   "outputs": [
    {
     "data": {
      "text/plain": [
       "Text(0.5, 1.0, 'Soil Depth')"
      ]
     },
     "execution_count": 5,
     "metadata": {},
     "output_type": "execute_result"
    },
    {
     "data": {
      "image/png": "[encoded data removed]",
      "text/plain": [
       "<Figure size 720x720 with 2 Axes>"
      ]
     },
     "metadata": {
      "needs_background": "light"
     },
     "output_type": "display_data"
    },
    {
     "data": {
      "image/png": "[encoded data removed]",
      "text/plain": [
       "<Figure size 720x720 with 2 Axes>"
      ]
     },
     "metadata": {
      "needs_background": "light"
     },
     "output_type": "display_data"
    }
   ],
   "source": [
    "plt.figure(figsize=(10,10))\n",
    "imshow_grid(mg, \"topographic__elevation\", cmap=\"terrain\")\n",
    "plt.title(\"Final topographic__elevation\")\n",
    "plt.figure(figsize=(10,10))\n",
    "imshow_grid(mg, \"soil__depth\", cmap=\"Reds\")\n",
    "plt.title(\"Soil Depth\")"
   ]
  },
  {
   "cell_type": "markdown",
   "id": "4423bf35",
   "metadata": {},
   "source": [
    "Instantiate the lateral erosion component."
   ]
  },
  {
   "cell_type": "code",
   "execution_count": 6,
   "id": "1aecf7f9",
   "metadata": {},
   "outputs": [],
   "source": [
    "le = LateralEroderSolo(mg, K_br=0.00005, Kl_ratio = 3, K_sed=0.000075)\n",
    "new_dt = 50"
   ]
  },
  {
   "cell_type": "markdown",
   "id": "8cd6c006",
   "metadata": {},
   "source": [
    "Run lateral erosion and space. Note the cell block below runs with a smaller time step (50 years) than the space code block (500 years)."
   ]
  },
  {
   "cell_type": "code",
   "execution_count": 9,
   "id": "0f65e328",
   "metadata": {
    "scrolled": true
   },
   "outputs": [
    {
     "name": "stderr",
     "output_type": "stream",
     "text": [
      "100%|████████████████████████████████████████████████████████████████████████████████| 100/100 [01:14<00:00,  1.35it/s]"
     ]
    },
    {
     "name": "stdout",
     "output_type": "stream",
     "text": [
      "Total run time is 74 s\n"
     ]
    },
    {
     "name": "stderr",
     "output_type": "stream",
     "text": [
      "\n"
     ]
    }
   ],
   "source": [
    "mg.at_node['topographic__elevation'] = z_endspace\n",
    "mg.at_node[\"soil__depth\"] = s_endspace\n",
    "mg.at_node[\"bedrock__elevation\"] = br_endspace\n",
    "le_cumu = mg.add_zeros(\"lateral_erosion__depth_cumu\", at=\"node\", clobber=True)\n",
    "\n",
    "t1 = time.time()\n",
    "for i in tqdm(range(100)):\n",
    "    # Uplift\n",
    "    br[mg.core_nodes] += 0.001 * new_dt\n",
    "    z[mg.core_nodes] = br[mg.core_nodes] + s[mg.core_nodes]\n",
    "    fr.run_one_step()\n",
    "    ha.run_one_step(dt=new_dt)\n",
    "    le.run_one_step_basic(dt=new_dt)\n",
    "\n",
    "t_span1 = time.time() - t1\n",
    "print('Total run time is %.f s' %t_span1)"
   ]
  },
  {
   "cell_type": "markdown",
   "id": "7f1318fc",
   "metadata": {},
   "source": [
    "Note widened valleys in figures plotted below"
   ]
  },
  {
   "cell_type": "code",
   "execution_count": null,
   "id": "bff17626",
   "metadata": {},
   "outputs": [],
   "source": [
    "plt.figure(figsize=(10,10))\n",
    "imshow_grid(mg, \"topographic__elevation\", cmap=\"terrain\")\n",
    "plt.title(\"Final topographic__elevation\")\n",
    "plt.figure(figsize=(10,10))\n",
    "imshow_grid(mg, \"lateral_erosion__depth_cumu\", cmap=\"Greys_r\", vmin=np.min(mg.at_node[\"lateral_erosion__depth_cumu\"])*0.5)\n",
    "plt.title(\"Cumulative Lateral Erosion\")"
   ]
  },
  {
   "cell_type": "markdown",
   "id": "3ee2d187",
   "metadata": {},
   "source": [
    "In cell below, time step is large (500 years) same size as in space only cell."
   ]
  },
  {
   "cell_type": "code",
   "execution_count": null,
   "id": "932c399f",
   "metadata": {
    "scrolled": true
   },
   "outputs": [],
   "source": [
    "# z_ori = np.array(z)\n",
    "mg.at_node['topographic__elevation'] = z_endspace\n",
    "mg.at_node[\"soil__depth\"] = s_endspace\n",
    "mg.at_node[\"bedrock__elevation\"] = br_endspace\n",
    "le_cumu = mg.add_zeros(\"lateral_erosion__depth_cumu\", at=\"node\", clobber=True)\n",
    "\n",
    "t1 = time.time()\n",
    "for i in tqdm(range(100)):\n",
    "    # Uplift\n",
    "    br[mg.core_nodes] += 0.001 * space_dt\n",
    "    z[mg.core_nodes] = br[mg.core_nodes] + s[mg.core_nodes]\n",
    "    fr.run_one_step()\n",
    "    ha.run_one_step(dt=space_dt)\n",
    "    le.run_one_step_basic(dt=space_dt)\n",
    "\n",
    "t_span1 = time.time() - t1\n",
    "print('Total run time is %.f s' %t_span1)"
   ]
  },
  {
   "cell_type": "code",
   "execution_count": null,
   "id": "72612bbf",
   "metadata": {},
   "outputs": [],
   "source": [
    "plt.figure(figsize=(10,10))\n",
    "imshow_grid(mg, \"topographic__elevation\", cmap=\"terrain\")\n",
    "plt.title(\"Final topographic__elevation\")\n",
    "plt.figure(figsize=(10,10))\n",
    "imshow_grid(mg, \"lateral_erosion__depth_cumu\", cmap=\"Greys_r\", vmin=np.min(mg.at_node[\"lateral_erosion__depth_cumu\"])*0.5)\n",
    "plt.title(\"Cumulative Lateral Erosion\")"
   ]
  },
  {
   "cell_type": "markdown",
   "id": "ee80f1e1",
   "metadata": {},
   "source": [
    "Now add landslides. Landslides needs the separate hill slope flow stuff below"
   ]
  },
  {
   "cell_type": "code",
   "execution_count": null,
   "id": "ee84614c",
   "metadata": {},
   "outputs": [],
   "source": [
    "# Here, we only calculate flow directions using the first instance of the flow accumulator\n",
    "flow_metric = \"D8\"\n",
    "fa_PF = PriorityFloodFlowRouter(\n",
    "    mg,\n",
    "    surface=\"topographic__elevation\",\n",
    "    flow_metric=flow_metric,\n",
    "    suppress_out=True,\n",
    "    depression_handler=\"fill\",\n",
    "    accumulate_flow=True,\n",
    "    separate_hill_flow=True,\n",
    "    accumulate_flow_hill=True,\n",
    ")\n",
    "\n",
    "fa_PF.run_one_step()\n",
    "\n",
    "# Plot output products\n",
    "plotting(mg)"
   ]
  },
  {
   "cell_type": "code",
   "execution_count": null,
   "id": "100ef0b1",
   "metadata": {},
   "outputs": [],
   "source": [
    "ls = BedrockLandslider(\n",
    "    mg, \n",
    "    angle_int_frict=.5,\n",
    "    landslides_return_time=1e3,\n",
    "    cohesion_eff = 1e3,)\n"
   ]
  },
  {
   "cell_type": "code",
   "execution_count": null,
   "id": "cc62267e",
   "metadata": {},
   "outputs": [],
   "source": [
    "ls.run_one_step(dt=50)"
   ]
  },
  {
   "cell_type": "code",
   "execution_count": null,
   "id": "f9cbccbe",
   "metadata": {},
   "outputs": [],
   "source": [
    "# Landslide Erosion \n",
    "cmap = copy.copy(mpl.cm.get_cmap(\"hot_r\"))\n",
    "imshow_grid(mg,np.sqrt(mg.at_node[\"landslide__erosion\"]), colorbar_label = 'SQRT( Landslide erosion, m) ',cmap =cmap)\n",
    "plt.show()\n",
    "\n",
    "# Landslide Deposition \n",
    "cmap = copy.copy(mpl.cm.get_cmap(\"winter_r\"))\n",
    "imshow_grid(mg,np.sqrt(mg.at_node[\"landslide__deposition\"]), colorbar_label = 'SQRT( Landslide deposition, m) ',cmap =cmap)\n",
    "plt.show()"
   ]
  }
 ],
 "metadata": {
  "kernelspec": {
   "display_name": "Python 3 (ipykernel)",
   "language": "python",
   "name": "python3"
  },
  "language_info": {
   "codemirror_mode": {
    "name": "ipython",
    "version": 3
   },
   "file_extension": ".py",
   "mimetype": "text/x-python",
   "name": "python",
   "nbconvert_exporter": "python",
   "pygments_lexer": "ipython3",
   "version": "3.7.13"
  }
 },
 "nbformat": 4,
 "nbformat_minor": 5
}
