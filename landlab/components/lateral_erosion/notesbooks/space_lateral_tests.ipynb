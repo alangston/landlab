{
 "cells": [
  {
   "cell_type": "markdown",
   "id": "507217c6",
   "metadata": {},
   "source": [
    "# Test of largescale space + lateral erosion\n",
    "<hr>"
   ]
  },
  {
   "cell_type": "code",
   "execution_count": 1,
   "id": "e53034ce",
   "metadata": {},
   "outputs": [],
   "source": [
    "import numpy as np\n",
    "from matplotlib import pyplot as plt\n",
    "from tqdm import tqdm\n",
    "import time\n",
    "import copy\n",
    "import matplotlib as mpl\n",
    "import pytest\n",
    "from numpy import testing\n",
    "\n",
    "from landlab import imshow_grid,imshowhs_grid, RasterModelGrid\n",
    "from landlab.components import (\n",
    "    SpaceLargeScaleEroder,\n",
    "    PriorityFloodFlowRouter,\n",
    "    LateralEroderSolo, \n",
    "    BedrockLandslider\n",
    ")"
   ]
  },
  {
   "cell_type": "markdown",
   "id": "124ca494",
   "metadata": {},
   "source": [
    "Create raster grid with space"
   ]
  },
  {
   "cell_type": "code",
   "execution_count": 2,
   "id": "5f358c25",
   "metadata": {},
   "outputs": [],
   "source": [
    "# nr = 20\n",
    "# nc = 20\n",
    "nr = 75\n",
    "nc = 75\n",
    "xy_spacing = 10.0\n",
    "mg = RasterModelGrid((nr, nc), xy_spacing=xy_spacing)\n",
    "z = mg.add_ones(\"topographic__elevation\", at=\"node\")\n",
    "mg.at_node[\"topographic__elevation\"][mg.core_nodes] += np.random.rand(\n",
    "    mg.number_of_core_nodes\n",
    ")\n",
    "\n",
    "s = mg.add_zeros(\"soil__depth\", at=\"node\", dtype=float)\n",
    "mg.at_node[\"soil__depth\"][mg.core_nodes] += 0.5\n",
    "mg.at_node[\"topographic__elevation\"] += mg.at_node[\"soil__depth\"]\n",
    "\n",
    "fr = PriorityFloodFlowRouter(mg, flow_metric=\"D8\", update_flow_depressions=True)\n",
    "\n",
    "ha = SpaceLargeScaleEroder(mg, K_sed=0.00005, K_br=0.00005, phi=0.3, H_star=1)\n",
    "\n",
    "br = mg.at_node[\"bedrock__elevation\"]\n",
    "z = mg.at_node[\"topographic__elevation\"]\n",
    "\n",
    "space_dt = 500"
   ]
  },
  {
   "cell_type": "markdown",
   "id": "7014ef74",
   "metadata": {},
   "source": [
    "Below is creating the lateral erosion component. Note the Kl/Kv ratio is really high here (3, rather than 1, 1.5, etc.)\n"
   ]
  },
  {
   "cell_type": "code",
   "execution_count": null,
   "id": "223f32a9",
   "metadata": {},
   "outputs": [],
   "source": [
    "le = LateralEroderSolo(mg, Kv=0.00005, Kl_ratio = 5)"
   ]
  },
  {
   "cell_type": "markdown",
   "id": "c869669a",
   "metadata": {},
   "source": [
    "In the block below, we compare sediment flux from the space component to the sediment flux from the lateral erosion component. These two values should *not* be equal to each other, because lateral erosion is providing additional sediment flux."
   ]
  },
  {
   "cell_type": "code",
   "execution_count": null,
   "id": "418b93eb",
   "metadata": {
    "scrolled": true
   },
   "outputs": [],
   "source": [
    "z_ori = np.array(z)\n",
    "for i in tqdm(range(500)):\n",
    "    # Uplift\n",
    "    br[mg.core_nodes] += 0.001 * space_dt\n",
    "\n",
    "    z[mg.core_nodes] = br[mg.core_nodes] + s[mg.core_nodes]\n",
    "\n",
    "    fr.run_one_step()\n",
    "    ha.run_one_step(dt=space_dt)\n",
    "    sedflux_space = np.copy(mg.at_node[\"sediment__flux\"])\n",
    "\n",
    "    le.run_one_step_basic(dt=space_dt)\n",
    "    sedflux_lateral = mg.at_node[\"sediment__flux\"]\n",
    "    ### test for match with sed fluxes before and after lateral erosion component\n",
    "    # lat ero component should add to sed flux from eroded lateral node to downstream node\n",
    "    testing.assert_array_almost_equal(\n",
    "        sedflux_space,\n",
    "        sedflux_lateral,\n",
    "        decimal=8,\n",
    "        err_msg=\"sediment flux IS being changed in lateral erosion module\",\n",
    "        verbose=True,\n",
    "    )\n"
   ]
  },
  {
   "cell_type": "markdown",
   "id": "532bb54e",
   "metadata": {},
   "source": [
    "In the code block below testing to make sure that lateral erosion is reducing elevation from soil depth and bedrock elevation properly. topographic__elevation should be equal to bedrock__elevation + soil__depth."
   ]
  },
  {
   "cell_type": "code",
   "execution_count": null,
   "id": "4b83f9d6",
   "metadata": {
    "scrolled": true
   },
   "outputs": [],
   "source": [
    "z_ori = np.array(z)\n",
    "for i in tqdm(range(50)):\n",
    "    \n",
    "    fr.run_one_step()\n",
    "    ha.run_one_step(dt=space_dt)\n",
    "    le.run_one_step_basic(dt=space_dt)\n",
    "    \n",
    "### test to make sure that lateral erosion is reducing elevation from soil depth\n",
    "# and bedrock elevation properly. topographic__elevation should be equal to \n",
    "# bedrock__elevation + soil__depth\n",
    "br_soil = mg.at_node[\"soil__depth\"]+mg.at_node[\"bedrock__elevation\"]\n",
    "\n",
    "testing.assert_array_almost_equal(\n",
    "    mg.at_node[\"topographic__elevation\"],\n",
    "    br_soil,\n",
    "    decimal=8,\n",
    "    err_msg=\"topographic_elevation is NOT almost equal to bedrock__elevation + soil__depth\",\n",
    "    verbose=True,\n",
    ")"
   ]
  },
  {
   "cell_type": "code",
   "execution_count": null,
   "id": "97b13224",
   "metadata": {},
   "outputs": [],
   "source": [
    "plt.figure(figsize=(10,10))\n",
    "plot = plt.subplot()\n",
    "imshow_grid(\n",
    "    mg,\n",
    "    \"topographic__elevation\",\n",
    "    plot_name=\"Topographic Elevation\",\n",
    "    var_name=\"Topographic Elevation\",\n",
    "    var_units=r\"m\",\n",
    "    grid_units=(\"m\", \"m\"),\n",
    "    cmap=\"terrain\"\n",
    ")\n",
    "br_soil = mg.at_node[\"soil__depth\"]+mg.at_node[\"bedrock__elevation\"]\n",
    "plt.figure(figsize=(10,10))\n",
    "imshow_grid(\n",
    "    mg,\n",
    "    br_soil,\n",
    "    plot_name=\"Soil depth+bedrock\",\n",
    "    var_name=\"Soil depth bedrock\",\n",
    "    var_units=r\"m\",\n",
    "    grid_units=(\"m\", \"m\"),\n",
    "    cmap=\"terrain\"\n",
    ")"
   ]
  },
  {
   "cell_type": "code",
   "execution_count": null,
   "id": "0c6ac33e",
   "metadata": {},
   "outputs": [],
   "source": [
    "plt.figure(figsize=(10,10))\n",
    "imshow_grid(\n",
    "    mg,\n",
    "    \"soil__depth\",\n",
    "    plot_name=\"Soil depth\",\n",
    "    var_name=\"Soil depth\",\n",
    "    var_units=r\"m\",\n",
    "    grid_units=(\"m\", \"m\"),\n",
    "    cmap=\"Greys_r\",\n",
    "    vmax=0.11\n",
    ")\n",
    "\n",
    "plt.figure(figsize=(10,10))\n",
    "imshow_grid(\n",
    "    mg,\n",
    "    \"lateral_erosion__depth_cumu\",\n",
    "    plot_name=\"Cumulative Lateral Erosion\",\n",
    "    var_name=\"Cumu. lat. ero.\",\n",
    "    var_units=r\"m\",\n",
    "    grid_units=(\"m\", \"m\"),\n",
    "    cmap=\"terrain\",\n",
    ")"
   ]
  }
 ],
 "metadata": {
  "kernelspec": {
   "display_name": "Python 3 (ipykernel)",
   "language": "python",
   "name": "python3"
  },
  "language_info": {
   "codemirror_mode": {
    "name": "ipython",
    "version": 3
   },
   "file_extension": ".py",
   "mimetype": "text/x-python",
   "name": "python",
   "nbconvert_exporter": "python",
   "pygments_lexer": "ipython3",
   "version": "3.9.12"
  }
 },
 "nbformat": 4,
 "nbformat_minor": 5
}
