{
 "cells": [
  {
   "cell_type": "markdown",
   "metadata": {},
   "source": [
    "# Adding a discharge point source to a LEM\n",
    "\n",
    "*(Greg Tucker, CSDMS / CU Boulder, fall 2020)*\n",
    "\n",
    "This notebook shows how to add one or more discharge point sources to a Landlab-built landscape evolution model (LEM), using the flow routing components. The basic idea is to modify the `water__unit_flux_in` field to include a large flux (which could be represented as either drainage area or discharge) at one or more locations along the edge of a grid."
   ]
  },
  {
   "cell_type": "code",
   "execution_count": 1,
   "metadata": {},
   "outputs": [],
   "source": [
    "import numpy as np\n",
    "\n",
    "from landlab import RasterModelGrid, imshow_grid\n",
    "from landlab.components import FlowAccumulator"
   ]
  },
  {
   "cell_type": "markdown",
   "metadata": {},
   "source": [
    "## Docstring example from `FlowAccumulator`\n",
    "\n",
    "The following is a tiny example from the `FlowAccumulator` documentation:"
   ]
  },
  {
   "cell_type": "code",
   "execution_count": 2,
   "metadata": {},
   "outputs": [
    {
     "name": "stdout",
     "output_type": "stream",
     "text": [
      "[[    0.   500.  5200.     0.]\n",
      " [    0.   500.  5200.     0.]\n",
      " [    0.   900.  4600.     0.]\n",
      " [    0.  1300.  2700.     0.]\n",
      " [    0.     0.     0.     0.]]\n"
     ]
    }
   ],
   "source": [
    "mg = RasterModelGrid((5, 4), xy_spacing=(10.0, 10))\n",
    "\n",
    "topographic__elevation = np.array(\n",
    "    [\n",
    "        0.0,\n",
    "        0.0,\n",
    "        0.0,\n",
    "        0.0,\n",
    "        0.0,\n",
    "        21.0,\n",
    "        10.0,\n",
    "        0.0,\n",
    "        0.0,\n",
    "        31.0,\n",
    "        20.0,\n",
    "        0.0,\n",
    "        0.0,\n",
    "        32.0,\n",
    "        30.0,\n",
    "        0.0,\n",
    "        0.0,\n",
    "        0.0,\n",
    "        0.0,\n",
    "        0.0,\n",
    "    ]\n",
    ")\n",
    "\n",
    "_ = mg.add_field(\"topographic__elevation\", topographic__elevation, at=\"node\")\n",
    "mg.set_closed_boundaries_at_grid_edges(True, True, True, False)\n",
    "fa = FlowAccumulator(mg, \"topographic__elevation\", flow_director=\"FlowDirectorSteepest\")\n",
    "runoff_rate = np.arange(mg.number_of_nodes, dtype=float)\n",
    "rnff = mg.add_field(\"water__unit_flux_in\", runoff_rate, at=\"node\", clobber=True)\n",
    "fa.run_one_step()\n",
    "print(mg.at_node[\"surface_water__discharge\"].reshape(5, 4))\n",
    "#    array([    0.,   500.,  5200.,     0.,\n",
    "#               0.,   500.,  5200.,     0.,\n",
    "#               0.,   900.,  4600.,     0.,\n",
    "#               0.,  1300.,  2700.,     0.,\n",
    "#               0.,     0.,     0.,     0.])"
   ]
  },
  {
   "cell_type": "markdown",
   "metadata": {},
   "source": [
    "We can extend this tiny example to show that you can subsequently modify the `rnff` array and it will take effect when you re-run the `FlowAccumulator`:"
   ]
  },
  {
   "cell_type": "code",
   "execution_count": 3,
   "metadata": {},
   "outputs": [
    {
     "name": "stdout",
     "output_type": "stream",
     "text": [
      "[[   0.  100.  500.    0.]\n",
      " [   0.  100.  500.    0.]\n",
      " [   0.  100.  400.    0.]\n",
      " [   0.  100.  200.    0.]\n",
      " [   0.    0.    0.    0.]]\n"
     ]
    }
   ],
   "source": [
    "rnff[:] = 1.0\n",
    "fa.run_one_step()\n",
    "print(mg.at_node[\"surface_water__discharge\"].reshape(5, 4))"
   ]
  },
  {
   "cell_type": "markdown",
   "metadata": {},
   "source": [
    "## Larger example\n",
    "\n",
    "In this example, we create a slightly larger grid, with a surface that slopes down toward the south / bottom boundary. We will introduce a runoff point source at a node in the middle of the top-most non-boundary row.\n",
    "\n",
    "Start by defining some parameters:"
   ]
  },
  {
   "cell_type": "code",
   "execution_count": 4,
   "metadata": {},
   "outputs": [],
   "source": [
    "# Parameters\n",
    "nrows = 41\n",
    "ncols = 41\n",
    "dx = 100.0  # grid spacing in m\n",
    "slope_gradient = 0.01  # gradient of topographic surface\n",
    "noise_amplitude = 0.2  # amplitude of random noise\n",
    "input_runoff = 10000.0  # equivalent to a drainage area of 10,000 dx^2 or 10^8 m2"
   ]
  },
  {
   "cell_type": "markdown",
   "metadata": {},
   "source": [
    "Create grid and topography, and set boundaries:"
   ]
  },
  {
   "cell_type": "code",
   "execution_count": 5,
   "metadata": {},
   "outputs": [],
   "source": [
    "# Create a grid, and a field for water input\n",
    "grid = RasterModelGrid((nrows, ncols), xy_spacing=dx)\n",
    "\n",
    "# Have just one edge (south / bottom) be open\n",
    "grid.set_closed_boundaries_at_grid_edges(True, True, True, False)\n",
    "\n",
    "# Create an elevation field as a ramp with random noise\n",
    "topo = grid.add_zeros(\"topographic__elevation\", at=\"node\")\n",
    "topo[:] = slope_gradient * grid.y_of_node\n",
    "np.random.seed(0)\n",
    "topo[grid.core_nodes] += noise_amplitude * np.random.randn(grid.number_of_core_nodes)"
   ]
  },
  {
   "cell_type": "markdown",
   "metadata": {},
   "source": [
    "The `FlowAccumulator` component takes care of identifying drainage directions (here using the D8 method) and calculating the cumulative drainage area and surface water discharge.\n",
    "\n",
    "Note that in this case we are assuming a default runoff value of unity, meaning that the calculated `surface_water__discharge` is actually just drainage area. To introduce the drainage area of a river entering at the top, we will use a large value for runoff. Because we are considering drainage area as the primary variable, with unit \"runoff\", our input runoff is a dimensionless variable: the number of contributing grid cell equivalents. We will set this to unity at all the nodes in the model except the point-source location."
   ]
  },
  {
   "cell_type": "code",
   "execution_count": 6,
   "metadata": {},
   "outputs": [],
   "source": [
    "# Create a FlowAccumulator component\n",
    "fa = FlowAccumulator(grid, flow_director=\"FlowDirectorD8\")"
   ]
  },
  {
   "cell_type": "code",
   "execution_count": 7,
   "metadata": {},
   "outputs": [],
   "source": [
    "# Create a runoff input field, and set one of its nodes to have a large input\n",
    "runoff = grid.add_ones(\"water__unit_flux_in\", at=\"node\", clobber=True)\n",
    "top_middle_node = grid.number_of_nodes - int(1.5 * ncols)\n",
    "runoff[top_middle_node] = input_runoff"
   ]
  },
  {
   "cell_type": "code",
   "execution_count": 8,
   "metadata": {},
   "outputs": [],
   "source": [
    "fa.run_one_step()"
   ]
  },
  {
   "cell_type": "code",
   "execution_count": 9,
   "metadata": {},
   "outputs": [
    {
     "data": {
      "image/png": "[encoded data removed]",
      "text/plain": [
       "<Figure size 432x288 with 2 Axes>"
      ]
     },
     "metadata": {
      "needs_background": "light"
     },
     "output_type": "display_data"
    }
   ],
   "source": [
    "imshow_grid(grid, \"surface_water__discharge\")"
   ]
  },
  {
   "cell_type": "markdown",
   "metadata": {},
   "source": [
    "## Changing the amount and/or location of input\n",
    "\n",
    "We can change the input drainage area / discharge amount or location simply by modifying the `water__unit_flux_in` field. Here we will shift it to the left and double its magnitude."
   ]
  },
  {
   "cell_type": "code",
   "execution_count": 10,
   "metadata": {},
   "outputs": [],
   "source": [
    "runoff[top_middle_node] = 1.0  # go back to being a \"regular\" node\n",
    "runoff[top_middle_node - 15] = 2 * input_runoff  # shift 15 cells left and double amount\n",
    "fa.run_one_step()"
   ]
  },
  {
   "cell_type": "code",
   "execution_count": 11,
   "metadata": {},
   "outputs": [
    {
     "data": {
      "image/png": "[encoded data removed]",
      "text/plain": [
       "<Figure size 432x288 with 2 Axes>"
      ]
     },
     "metadata": {
      "needs_background": "light"
     },
     "output_type": "display_data"
    }
   ],
   "source": [
    "imshow_grid(grid, \"surface_water__discharge\")"
   ]
  },
  {
   "cell_type": "markdown",
   "metadata": {},
   "source": [
    "Note that the `drainage_area` field does not recognize any runoff input. It continues to track *only* the local drainage area:"
   ]
  },
  {
   "cell_type": "code",
   "execution_count": 12,
   "metadata": {},
   "outputs": [
    {
     "data": {
      "image/png": "[encoded data removed]",
      "text/plain": [
       "<Figure size 432x288 with 2 Axes>"
      ]
     },
     "metadata": {
      "needs_background": "light"
     },
     "output_type": "display_data"
    }
   ],
   "source": [
    "imshow_grid(grid, \"drainage_area\")"
   ]
  },
  {
   "cell_type": "markdown",
   "metadata": {},
   "source": [
    "This means that you should use the `surface_water__discharge` field rather than the `drainage_area` field, regardless of whether the former is meant to represent discharge (volume per time) or effective drainage area (area)."
   ]
  },
  {
   "cell_type": "markdown",
   "metadata": {},
   "source": [
    "## Combining with a Landscape Evolution Model\n",
    "\n",
    "Here we'll set up a simple LEM that uses the river input."
   ]
  },
  {
   "cell_type": "code",
   "execution_count": 13,
   "metadata": {},
   "outputs": [],
   "source": [
    "from landlab.components import LinearDiffuser, StreamPowerEroder"
   ]
  },
  {
   "cell_type": "code",
   "execution_count": 14,
   "metadata": {},
   "outputs": [
    {
     "name": "stdout",
     "output_type": "stream",
     "text": [
      "1000 steps.\n"
     ]
    }
   ],
   "source": [
    "# Parameters\n",
    "K = 4.0e-5\n",
    "D = 0.01\n",
    "uplift_rate = 0.0001\n",
    "nrows = 51\n",
    "ncols = 51\n",
    "dx = 10.0  # grid spacing in m\n",
    "slope_gradient = 0.01  # gradient of topographic surface\n",
    "noise_amplitude = 0.04  # amplitude of random noise\n",
    "input_runoff = 10000.0  # equivalent to a drainage area of 10,000 dx^2 or 10^6 m2\n",
    "run_duration = 25.0 / uplift_rate\n",
    "\n",
    "dt = dx / (K * (dx * dx * input_runoff) ** 0.5)\n",
    "num_steps = int(run_duration / dt)\n",
    "print(str(num_steps) + \" steps.\")"
   ]
  },
  {
   "cell_type": "code",
   "execution_count": 15,
   "metadata": {},
   "outputs": [],
   "source": [
    "# Create a grid, and a field for water input\n",
    "grid = RasterModelGrid((nrows, ncols), xy_spacing=dx)\n",
    "\n",
    "# Have just one edge (south / bottom) be open\n",
    "grid.set_closed_boundaries_at_grid_edges(True, True, True, False)\n",
    "\n",
    "# Create an elevation field as a ramp with random noise\n",
    "topo = grid.add_zeros(\"topographic__elevation\", at=\"node\")\n",
    "topo[:] = slope_gradient * grid.y_of_node\n",
    "np.random.seed(0)\n",
    "topo[grid.core_nodes] += noise_amplitude * np.random.randn(grid.number_of_core_nodes)\n",
    "\n",
    "# Create components\n",
    "fa = FlowAccumulator(grid, flow_director=\"FlowDirectorD8\")\n",
    "sp = StreamPowerEroder(grid, K_sp=K, discharge_field=\"surface_water__discharge\")\n",
    "ld = LinearDiffuser(grid, linear_diffusivity=D)"
   ]
  },
  {
   "cell_type": "code",
   "execution_count": 16,
   "metadata": {},
   "outputs": [],
   "source": [
    "runoff = grid.add_ones(\"water__unit_flux_in\", at=\"node\", clobber=True)\n",
    "top_middle_node = grid.number_of_nodes - int(1.5 * ncols)\n",
    "runoff[top_middle_node] = input_runoff"
   ]
  },
  {
   "cell_type": "code",
   "execution_count": 17,
   "metadata": {},
   "outputs": [],
   "source": [
    "for _ in range(num_steps):\n",
    "    topo[grid.core_nodes] += uplift_rate * dt\n",
    "    fa.run_one_step()\n",
    "    ld.run_one_step(dt)\n",
    "    sp.run_one_step(dt)"
   ]
  },
  {
   "cell_type": "code",
   "execution_count": 18,
   "metadata": {},
   "outputs": [
    {
     "data": {
      "image/png": "[encoded data removed]",
      "text/plain": [
       "<Figure size 432x288 with 2 Axes>"
      ]
     },
     "metadata": {
      "needs_background": "light"
     },
     "output_type": "display_data"
    }
   ],
   "source": [
    "imshow_grid(grid, topo)"
   ]
  }
 ],
 "metadata": {
  "kernelspec": {
   "display_name": "Python 3",
   "language": "python",
   "name": "python3"
  },
  "language_info": {
   "codemirror_mode": {
    "name": "ipython",
    "version": 3
   },
   "file_extension": ".py",
   "mimetype": "text/x-python",
   "name": "python",
   "nbconvert_exporter": "python",
   "pygments_lexer": "ipython3",
   "version": "3.7.11"
  }
 },
 "nbformat": 4,
 "nbformat_minor": 4
}
