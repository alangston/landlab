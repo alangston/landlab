{
 "cells": [
  {
   "cell_type": "markdown",
   "id": "0460b174",
   "metadata": {},
   "source": [
    "# The `StreamPowerSmoothThresholdEroder` component\n",
    "\n",
    "Landlab's `StreamPowerSmoothThresholdEroder` (here SPSTE for short) is a fluvial landscape evolution component that uses a thresholded form of the stream power erosion law. The novel aspect is that the threshold takes a smoothed form rather than an abrupt mathematical discontinuity: as long as slope and drainage area are greater than zero, there is always *some* erosion rate even if the erosive potential function is below the nominal threshold value. This approach is motivated by the finding that mathematically discontinuous functions in numerical models can lead to \"numerical daemons\": non-smooth functional behavior that can greatly complicate optimization (Clark & Kavetski, 2010; Kavetski & Clark, 2010, 2011). The SPSTE is one of the fluvial erosion components used in the *terrainBento* collection of landscape evolution models (Barnhart et al., 2019).\n",
    "\n",
    "This tutorial provides a brief overview of how to use the SPSTE component.\n",
    "\n",
    "*(G.E. Tucker, 2021)*"
   ]
  },
  {
   "cell_type": "markdown",
   "id": "bca3176b",
   "metadata": {},
   "source": [
    "## Theory\n",
    "\n",
    "The SPSTE formulation is as follows. Consider a location on a stream channel that has local downstream slope gradient $S$ and drainage area $A$. We define an erosion potential function $\\omega$ as\n",
    "\n",
    "$$\\omega = KA^mS^n$$\n",
    "\n",
    "where $K$ is an erodibility coefficient with dimensions of $[L^{(1-2m)}/T]$. The erosion potential function has dimensions of erosion (lowering) rate, [L/T], and it represents the rate of erosion that would occur if there were no threshold term. The expression takes the form of the familiar area-slope erosion law, also known as the \"stream power law\" because the exponents can be configured to represent an erosion law that depends on stream power per unit bed area (Whipple & Tucker, 1999). A common choice of exponents is $m=1/2$, $n=1$, but other combinations are possible depending on one's assumptions about process, hydrology, channel geometry, and other factors (e.g., Howard et al., 1994; Whipple et al., 2000).\n",
    "\n",
    "We also define a threshold erosion potential function, $\\omega_c$, below which erosion rate declines precipitously. Given these definitions, a mathematically discontinuous threshold erosion function would look like this:\n",
    "\n",
    "$$E = \\max (\\omega - \\omega_c, 0)$$\n",
    "\n",
    "This kind of formulation is mathematically simple, and given data on $E$ and $\\omega$, one could easily find $K$ and $\\omega_c$ empirically by fitting a line. Yet even in the case of sediment transport, where the initial motion of grains is usually represented by a threshold shear stress (often referred to as the *critical shear stress* for initiation of sediment motion), we know that *some* transport still occurs below the nominal threshold (e.g, Wilcock & McArdell, 1997). Although it is undeniably true that the rate of sediment transport declines rapidly when the average shear stress drops below a critical value, the strictly linear-with-threshold formulation is really more of convenient mathematical fiction than an accurate reflection of geophysical reality. In bed-load sediment transport, reality seems to be smoother than this mathematical fiction, if one transport rates averaged over a suitably long time period. The same is likely true for the hydraulic detachment and removal of cohesive/rocky material as well. Furthermore, as alluded to above, a strict threshold expression for transport or erosion can create numerical daemons that complicate model analysis.\n",
    "\n",
    "To avoid the mathematical discontinuity at $\\omega=\\omega_c$, SPSTE uses a smoothed version of the above function:\n",
    "\n",
    "$$E = \\omega - \\omega_c \\left( 1 - e^{-\\omega / \\omega_c} \\right)$$\n",
    "\n",
    "The code below generates a plot that compares the strict threshold and smooth threshold erosion laws."
   ]
  },
  {
   "cell_type": "code",
   "execution_count": 60,
   "id": "9fdd4e6c",
   "metadata": {},
   "outputs": [],
   "source": [
    "import numpy as np\n",
    "import matplotlib.pyplot as plt\n",
    "from landlab import RasterModelGrid, imshow_grid\n",
    "from landlab.components import FlowAccumulator, StreamPowerSmoothThresholdEroder, StreamPowerEroder"
   ]
  },
  {
   "cell_type": "code",
   "execution_count": 61,
   "id": "43bd534b",
   "metadata": {},
   "outputs": [
    {
     "data": {
      "text/plain": [
       "<matplotlib.legend.Legend at 0x29b8cb9a048>"
      ]
     },
     "execution_count": 61,
     "metadata": {},
     "output_type": "execute_result"
    },
    {
     "data": {
      "image/png": "[encoded data removed]",
      "text/plain": [
       "<Figure size 432x288 with 1 Axes>"
      ]
     },
     "metadata": {
      "needs_background": "light"
     },
     "output_type": "display_data"
    }
   ],
   "source": [
    "omega = np.arange(0, 5.01, 0.01)\n",
    "omegac = 1.0\n",
    "#omegac = 0.5\n",
    "Eabrupt = np.maximum(omega - omegac, 0.0)\n",
    "Esmooth = omega - omegac * (1.0 - np.exp(-omega / omegac))\n",
    "\n",
    "plt.plot(omega, Esmooth, \"k\", label=\"Smoothed threshold\")\n",
    "plt.plot(omega, Eabrupt, \"k--\", label=\"Hard threshold\")\n",
    "plt.plot([1.0, 1.0], [0.0, 4.0], \"g:\", label=r\"$\\omega=\\omega_c$\")\n",
    "plt.xlabel(r\"Erosion potential function ($\\omega$)\")\n",
    "plt.ylabel(\"Erosion rate\")\n",
    "plt.legend()"
   ]
  },
  {
   "cell_type": "markdown",
   "id": "cdaa1c93",
   "metadata": {},
   "source": [
    "Notice that the SPSTE formulation effectively smooths over the sharp discontinuity at $\\omega = \\omega_c$."
   ]
  },
  {
   "cell_type": "markdown",
   "id": "b7d56273",
   "metadata": {},
   "source": [
    "### Equilibrium\n",
    "\n",
    "Consider a case of steady, uniform fluvial erosion. Let the ratio of the erosion potential function to its threshold value be a constant, as\n",
    "\n",
    "$$\\beta = \\omega / \\omega_c$$\n",
    "\n",
    "This allows us to replace instances of $\\omega_c$ with $(1/\\beta) \\omega$,\n",
    "\n",
    "$$E = KA^m S^n - \\frac{1}{\\beta} KA^m S^n \\left( 1 - e^{-\\beta} \\right)$$\n",
    "\n",
    "$$ = K A^m S^n \\left( 1 - \\frac{1}{\\beta}  \\left( 1 - e^{-\\beta} \\right)\\right)$$\n",
    "\n",
    "Let\n",
    "$$\\alpha = \\left( 1 - \\frac{1}{\\beta}  \\left( 1 - e^{-\\beta} \\right)\\right)$$\n",
    "\n",
    "Then we can solve for the steady-state slope as\n",
    "\n",
    "$$\\boxed{S = \\left( \\frac{E}{\\alpha K A^m} \\right)^{1/n}}$$\n",
    "\n",
    "We can relate $\\beta$ and $\\omega_c$ via\n",
    "\n",
    "$$\\omega_c = E / (1-\\beta (1 - e^{-\\beta} ))$$"
   ]
  },
  {
   "cell_type": "markdown",
   "id": "4b7793fb",
   "metadata": {},
   "source": [
    "## Usage\n",
    "\n",
    "Here we get a summary of the component's usage and input parameters by printing out the component's header docstring:"
   ]
  },
  {
   "cell_type": "code",
   "execution_count": 3,
   "id": "22abfa8b",
   "metadata": {},
   "outputs": [
    {
     "name": "stdout",
     "output_type": "stream",
     "text": [
      "Stream erosion component with smooth threshold function.\n",
      "\n",
      "    Parameters\n",
      "    ----------\n",
      "    grid : ModelGrid\n",
      "        A grid.\n",
      "    K_sp : float, array, or field name\n",
      "        K in the stream power equation (units vary with other parameters).\n",
      "    m_sp : float, optional\n",
      "        m in the stream power equation (power on drainage area).\n",
      "    n_sp : float, optional, ~ 0.5<n_sp<4.\n",
      "        n in the stream power equation (power on slope). NOTE: NOT PRESENTLY\n",
      "        HONORED BY StreamPowerSmoothThresholdEroder (TODO)\n",
      "    threshold_sp : float (TODO: array, or field name)\n",
      "        The threshold stream power.\n",
      "    discharge_field : float, field name, or array, optional\n",
      "        Discharge [L^2/T]. The default is to use the grid field\n",
      "        'drainage_area'. To use custom spatially/temporally varying\n",
      "        rainfall, use 'water__unit_flux_in' to specify water input to the\n",
      "        FlowAccumulator and use \"surface_water__discharge\" for this\n",
      "        keyword argument.\n",
      "    erode_flooded_nodes : bool (optional)\n",
      "        Whether erosion occurs in flooded nodes identified by a\n",
      "        depression/lake mapper (e.g., DepressionFinderAndRouter). When set\n",
      "        to false, the field *flood_status_code* must be present on the grid\n",
      "        (this is created by the DepressionFinderAndRouter). Default True.\n",
      "\n",
      "    Examples\n",
      "    --------\n",
      "    >>> from landlab import RasterModelGrid\n",
      "    >>> rg = RasterModelGrid((3, 4))\n",
      "    >>> rg.set_closed_boundaries_at_grid_edges(False, True, True, True)\n",
      "    >>> z = rg.add_zeros('node', 'topographic__elevation')\n",
      "    >>> z[5] = 2.0\n",
      "    >>> z[6] = 1.0\n",
      "    >>> from landlab.components import FlowAccumulator\n",
      "    >>> fr = FlowAccumulator(rg, flow_director='D4')\n",
      "    >>> fr.run_one_step()\n",
      "    >>> from landlab.components import StreamPowerSmoothThresholdEroder\n",
      "    >>> sp = StreamPowerSmoothThresholdEroder(rg, K_sp=1.0)\n",
      "    >>> sp.thresholds\n",
      "    1.0\n",
      "    >>> sp.run_one_step(dt=1.0)\n",
      "    >>> import numpy as np\n",
      "    >>> np.round(z[5:7], 3)\n",
      "    array([ 1.646,  0.667])\n",
      "    >>> z[5] = 2.0\n",
      "    >>> z[6] = 1.0\n",
      "    >>> import numpy as np\n",
      "    >>> q = np.zeros(rg.number_of_nodes) + 0.25\n",
      "    >>> q[6] = 100.0\n",
      "    >>> sp = StreamPowerSmoothThresholdEroder(rg, K_sp=1.0, discharge_field=q)\n",
      "    >>> sp.run_one_step(dt=1.0)\n",
      "    >>> np.round(z[5:7], 3)\n",
      "    array([ 1.754,  0.164])\n",
      "\n",
      "    References\n",
      "    ----------\n",
      "    **Required Software Citation(s) Specific to this Component**\n",
      "\n",
      "    Barnhart, K., Glade, R., Shobe, C., Tucker, G. (2019). Terrainbento 1.0: a\n",
      "    Python package for multi-model analysis in long-term drainage basin\n",
      "    evolution. Geoscientific Model Development  12(4), 1267--1297.\n",
      "    https://dx.doi.org/10.5194/gmd-12-1267-2019\n",
      "\n",
      "    **Additional References**\n",
      "\n",
      "    Braun, J., Willett, S. (2013). A very efficient O(n), implicit and parallel\n",
      "    method to solve the stream power equation governing fluvial incision and\n",
      "    landscape evolution. Geomorphology  180-181(C), 170-179.\n",
      "    https://dx.doi.org/10.1016/j.geomorph.2012.10.008\n",
      "\n",
      "    \n"
     ]
    }
   ],
   "source": [
    "print(StreamPowerSmoothThresholdEroder.__doc__)"
   ]
  },
  {
   "cell_type": "markdown",
   "id": "943effae",
   "metadata": {},
   "source": [
    "## Example\n",
    "\n",
    "Here we'll run a steady-state example with $\\beta = 1$. To do this, we'll start with a slightly inclined surface with some superimposed random noise, and subject it to a steady rate of rock uplift relative to baselevel, $U$, until it reaches a steady state."
   ]
  },
  {
   "cell_type": "code",
   "execution_count": 62,
   "id": "5286dcd0",
   "metadata": {},
   "outputs": [],
   "source": [
    "# Parameters\n",
    "K = 0.00005  # erodibility coefficient, 1/yr\n",
    "m = 0.5  # drainage area exponent\n",
    "beta = 1.0  # ratio of w / wc [-]\n",
    "#beta = 0.5  # ratio of w / wc [-]\n",
    "#beta = 3.0  # ratio of w / wc [-]\n",
    "\n",
    "uplift_rate = 0.001  # rate of uplift relative to baselevel, m/yr\n",
    "#uplift_rate = 0.0005  # rate of uplift relative to baselevel, m/yr\n",
    "\n",
    "nrows = 16  # number of grid rows (small for speed)\n",
    "ncols = 25  # number of grid columns (\")\n",
    "dx = 100.0  # grid spacing, m\n",
    "dt = 1000.0  # time-step duration, yr\n",
    "run_duration = 2.5e5  # duration of run, yr\n",
    "init_slope = 0.001  # initial slope gradient of topography, m/m\n",
    "noise_amplitude = 0.1  # amplitude of random noise on init. topo.\n",
    "\n",
    "# Derived parameters\n",
    "omega_c = uplift_rate / (beta - (1 - np.exp(-beta)))\n",
    "nsteps = int(run_duration / dt)"
   ]
  },
  {
   "cell_type": "code",
   "execution_count": 48,
   "id": "6d83d978",
   "metadata": {},
   "outputs": [],
   "source": [
    "# Create grid and elevation field with initial ramp\n",
    "grid = RasterModelGrid((nrows, ncols), xy_spacing=dx)\n",
    "grid.set_closed_boundaries_at_grid_edges(True, True, True, False)\n",
    "elev = grid.add_zeros(\"topographic__elevation\", at=\"node\")\n",
    "elev[:] = init_slope * grid.y_of_node\n",
    "np.random.seed(0)\n",
    "elev[grid.core_nodes] += noise_amplitude * np.random.rand(grid.number_of_core_nodes)"
   ]
  },
  {
   "cell_type": "code",
   "execution_count": 49,
   "id": "2b487126",
   "metadata": {},
   "outputs": [
    {
     "data": {
      "image/png": "[encoded data removed]",
      "text/plain": [
       "<Figure size 432x288 with 2 Axes>"
      ]
     },
     "metadata": {
      "needs_background": "light"
     },
     "output_type": "display_data"
    }
   ],
   "source": [
    "# Display starting topography\n",
    "imshow_grid(grid, elev)"
   ]
  },
  {
   "cell_type": "code",
   "execution_count": 63,
   "id": "0aad8199",
   "metadata": {},
   "outputs": [],
   "source": [
    "# Instantiate the two components\n",
    "# (note that m=0.5, n=1 are the defaults for SPSTE)\n",
    "fa = FlowAccumulator(grid, flow_director=\"D8\")\n",
    "spste = StreamPowerSmoothThresholdEroder(grid, K_sp=K, threshold_sp=omega_c)\n",
    "spste = StreamPowerEroder(grid, K_sp=K, threshold_sp=omega_c)"
   ]
  },
  {
   "cell_type": "code",
   "execution_count": 64,
   "id": "8b9d7d7a",
   "metadata": {},
   "outputs": [
    {
     "name": "stdout",
     "output_type": "stream",
     "text": [
      "1.0\n",
      "0.00271828182846\n"
     ]
    }
   ],
   "source": [
    "print(beta)\n",
    "print(omega_c)"
   ]
  },
  {
   "cell_type": "code",
   "execution_count": 65,
   "id": "72d4ab96",
   "metadata": {},
   "outputs": [],
   "source": [
    "# Run the model\n",
    "for i in range(nsteps):\n",
    "\n",
    "    # flow accumulation\n",
    "    fa.run_one_step()\n",
    "\n",
    "    # uplift / baselevel\n",
    "    elev[grid.core_nodes] += uplift_rate * dt\n",
    "\n",
    "    # erosion\n",
    "    spste.run_one_step(dt)"
   ]
  },
  {
   "cell_type": "code",
   "execution_count": 66,
   "id": "8ae808c9",
   "metadata": {},
   "outputs": [
    {
     "data": {
      "image/png": "[encoded data removed]",
      "text/plain": [
       "<Figure size 432x288 with 2 Axes>"
      ]
     },
     "metadata": {
      "needs_background": "light"
     },
     "output_type": "display_data"
    }
   ],
   "source": [
    "# Display the final topopgraphy\n",
    "imshow_grid(grid, elev)"
   ]
  },
  {
   "cell_type": "code",
   "execution_count": 67,
   "id": "50caa12e",
   "metadata": {},
   "outputs": [],
   "source": [
    "# Calculate the analytical solution in slope-area space\n",
    "alpha = 1.0 - (1.0 / beta) * (1.0 - np.exp(-beta))\n",
    "area_pred = np.array([1.0e4, 1.0e6])\n",
    "slope_pred = uplift_rate / (alpha * K * area_pred ** m)"
   ]
  },
  {
   "cell_type": "code",
   "execution_count": 68,
   "id": "b7d1bce3",
   "metadata": {},
   "outputs": [
    {
     "data": {
      "image/png": "[encoded data removed]",
      "text/plain": [
       "<Figure size 432x288 with 1 Axes>"
      ]
     },
     "metadata": {
      "needs_background": "light"
     },
     "output_type": "display_data"
    }
   ],
   "source": [
    "# Plot the slope-area relation and compare with analytical\n",
    "area = grid.at_node[\"drainage_area\"]\n",
    "slope = grid.at_node[\"topographic__steepest_slope\"]\n",
    "cores = grid.core_nodes\n",
    "plt.loglog(area[cores], slope[cores], \"k.\")\n",
    "plt.plot(area_pred, slope_pred)\n",
    "plt.legend([\"Numerical\", \"Analytical\"])\n",
    "plt.title(\"Equilibrium slope-area relation\")\n",
    "plt.xlabel(r\"Drainage area (m$^2$)\")\n",
    "_ = plt.ylabel(\"Slope (m/m)\")"
   ]
  },
  {
   "cell_type": "markdown",
   "id": "bf862ca9",
   "metadata": {},
   "source": [
    "The above plot shows that the simulation has reached steady state, and that the slope-area relation matches the analytical solution.\n",
    "\n",
    "We can also inspect the erosion potential function, which should be uniform in space, and (because $\\beta = 1$ in this example) equal to the threshold $\\omega_c$. We can also compare this with the uplift rate and the erosion-rate function:"
   ]
  },
  {
   "cell_type": "code",
   "execution_count": 69,
   "id": "6d727f38",
   "metadata": {
    "scrolled": true
   },
   "outputs": [
    {
     "data": {
      "image/png": "[encoded data removed]",
      "text/plain": [
       "<Figure size 432x288 with 1 Axes>"
      ]
     },
     "metadata": {
      "needs_background": "light"
     },
     "output_type": "display_data"
    }
   ],
   "source": [
    "# Plot the erosion potential function\n",
    "omega = K * area[cores] ** m * slope[cores]\n",
    "plt.plot([0.0, 1.0e6], [omega_c, omega_c], \"g\", label=r\"$\\omega_c$\")\n",
    "plt.plot(area[cores], omega, \".\", label=r\"$\\omega$\")\n",
    "plt.plot([0.0, 1.0e6], [uplift_rate, uplift_rate], \"r\", label=r\"$U$\")\n",
    "erorate = omega - omega_c * (1.0 - np.exp(-omega / omega_c))\n",
    "plt.plot(\n",
    "    area[cores], erorate, \"k+\", label=r\"$\\omega - \\omega_c (1 - e^{-\\omega/\\omega_c})$\"\n",
    ")\n",
    "plt.ylim([0.0, 2 * omega_c])\n",
    "plt.legend()\n",
    "plt.title(\"Erosion potential function vs. threshold term\")\n",
    "plt.xlabel(r\"Drainage area (m$^2$)\")\n",
    "_ = plt.ylabel(\"Erosion potential function (m/yr)\")"
   ]
  },
  {
   "cell_type": "code",
   "execution_count": 70,
   "id": "82524a38",
   "metadata": {},
   "outputs": [
    {
     "name": "stdout",
     "output_type": "stream",
     "text": [
      "[ 0.00099999  0.001       0.00099999  0.001       0.00099999  0.00099999\n",
      "  0.001       0.00099999  0.00099999  0.001       0.00099999  0.001\n",
      "  0.00099999  0.00099999  0.001       0.00099999  0.001       0.00099999\n",
      "  0.001       0.00099999  0.00099999  0.001       0.00099999  0.00099999\n",
      "  0.001       0.00099999  0.00099999  0.0009997   0.001       0.001\n",
      "  0.001       0.00099999  0.001       0.00099999  0.00099998  0.00100053\n",
      "  0.001       0.00100007  0.00100012  0.00099998  0.00099982  0.001\n",
      "  0.00099982  0.001       0.00099999  0.00099977  0.001       0.00099999\n",
      "  0.001       0.00099998  0.00099937  0.00099978  0.001       0.001\n",
      "  0.00099999  0.001       0.00099999  0.00100195  0.00100037  0.001\n",
      "  0.00100083  0.00100016  0.00099929  0.00099988  0.001       0.00099971\n",
      "  0.00099998  0.001       0.00099994  0.001       0.00099999  0.001\n",
      "  0.00099957  0.00099976  0.001       0.001       0.001       0.00099998\n",
      "  0.001       0.00099998  0.00100298  0.00100123  0.001       0.00100123\n",
      "  0.00100265  0.00099899  0.00099982  0.001       0.00099982  0.00099899\n",
      "  0.00099994  0.00099916  0.001       0.00099998  0.00099993  0.00099974\n",
      "  0.001       0.001       0.001       0.00099978  0.00099997  0.001\n",
      "  0.00099997  0.00100216  0.001       0.00100123  0.00100031  0.00100248\n",
      "  0.00099822  0.00099943  0.001       0.00099943  0.00099863  0.00099772\n",
      "  0.00099671  0.001       0.00099998  0.00099928  0.00100001  0.001\n",
      "  0.001       0.001       0.0009994   0.00099997  0.001       0.00099997\n",
      "  0.00100302  0.00100001  0.00100302  0.00100175  0.00100265  0.00099896\n",
      "  0.00099994  0.00099943  0.001       0.00099997  0.00099962  0.00099764\n",
      "  0.00099998  0.001       0.00099996  0.00100002  0.001       0.00100002\n",
      "  0.00099997  0.00099995  0.001       0.00099997  0.00099997  0.00100416\n",
      "  0.00100004  0.00100416  0.00100425  0.00099809  0.00099947  0.00099896\n",
      "  0.0009988   0.001       0.0009988   0.0009976   0.00099669  0.00099995\n",
      "  0.001       0.00099995  0.00100002  0.00100002  0.001       0.00100003\n",
      "  0.00099994  0.001       0.00099994  0.0009997   0.00100568  0.00100011\n",
      "  0.00100568  0.00101905  0.00099809  0.00099809  0.00099461  0.00099843\n",
      "  0.001       0.00099843  0.00099664  0.0009951   0.00099992  0.001\n",
      "  0.00099992  0.00100001  0.00100004  0.001       0.0009999   0.001\n",
      "  0.001       0.00099928  0.00099153  0.00099984  0.00100568  0.00100083\n",
      "  0.00101515  0.00099686  0.00099043  0.00099661  0.00099996  0.00099843\n",
      "  0.00099998  0.00099943  0.00099634  0.00099999  0.001       0.00099876\n",
      "  0.00100007  0.001       0.00100004  0.00099987  0.001       0.00099987\n",
      "  0.00099853  0.00098868  0.00099449  0.00102589  0.00100213  0.00102589\n",
      "  0.00098306  0.00099347  0.00099974  0.00099661  0.00099734  0.00099993\n",
      "  0.00099829  0.00099511  0.00099993  0.00099972  0.00100012  0.001\n",
      "  0.001       0.00100013  0.00099978  0.001       0.001       0.00099975\n",
      "  0.00095135  0.0009505   0.00104399  0.00100553  0.00104399  0.00098749\n",
      "  0.00099874  0.00099347  0.00099044  0.00099662  0.00099978  0.00099662\n",
      "  0.00099378  0.00099858  0.00100023  0.00100001  0.00100012  0.001\n",
      "  0.00100027  0.00099962  0.001       0.00099975  0.00099999  0.00099943\n",
      "  0.00077274  0.00108678  0.00101512  0.00097041  0.00099366  0.00099356\n",
      "  0.00098306  0.00099468  0.0009983   0.00099662  0.00099845  0.00099478\n",
      "  0.00100041  0.00100011  0.00100011  0.00100003  0.00100001  0.00100002\n",
      "  0.00099461  0.00099999  0.00099649  0.00099994  0.00099692  0.00121434\n",
      "  0.00108658  0.00108565  0.00086114  0.00098404  0.00097919  0.0009757\n",
      "  0.00099468  0.00099576  0.00099358  0.00099624  0.00099359  0.00099415\n",
      "  0.00100041  0.00100041  0.00099966  0.00100076  0.00099922  0.00099566\n",
      "  0.00099925  0.00099566  0.00099873  0.00099391  0.00122146  0.00121846\n",
      "  0.00124742  0.00095093  0.00095677  0.00095093  0.00098973  0.00099169\n",
      "  0.00099321  0.00099197  0.00099332  0.00099197]\n",
      "expofunc [ 0.74535312  0.74535362  0.74535312  0.74535362  0.74535312  0.74535312\n",
      "  0.74535362  0.74535312  0.74535312  0.74535362  0.74535312  0.74535362\n",
      "  0.74535312  0.74535312  0.74535362  0.74535312  0.74535362  0.74535312\n",
      "  0.74535362  0.74535312  0.74535312  0.74535362  0.74535312  0.74535289\n",
      "  0.74535362  0.74535289  0.74535244  0.74532532  0.74535319  0.74535319\n",
      "  0.74535362  0.7453526   0.74535362  0.7453526   0.74535193  0.74540328\n",
      "  0.74535362  0.74536047  0.74536531  0.74535193  0.74533667  0.74535362\n",
      "  0.74533667  0.74535362  0.74535287  0.74533164  0.74535362  0.74535289\n",
      "  0.74535362  0.74535163  0.74529444  0.7453327   0.74535347  0.74535362\n",
      "  0.74535224  0.74535362  0.74535224  0.74553579  0.74538872  0.74535363\n",
      "  0.7454318   0.74536863  0.74528747  0.74534263  0.74535362  0.74532648\n",
      "  0.74535184  0.74535358  0.7453476   0.74535362  0.74535229  0.74535356\n",
      "  0.74531356  0.74533107  0.74535371  0.74535362  0.74535347  0.7453518\n",
      "  0.74535362  0.7453518   0.74563226  0.74546844  0.74535364  0.74546844\n",
      "  0.74560144  0.74525938  0.74533719  0.74535362  0.74533719  0.74525938\n",
      "  0.74534757  0.7452748   0.74535362  0.7453519   0.74534692  0.74532926\n",
      "  0.74535408  0.74535362  0.74535371  0.74533264  0.74535125  0.74535362\n",
      "  0.74535125  0.74555577  0.74535404  0.74546844  0.74538251  0.74558577\n",
      "  0.74518711  0.74529985  0.74535362  0.74529985  0.74522521  0.74514\n",
      "  0.74504504  0.74535362  0.74535137  0.74528648  0.74535465  0.74535362\n",
      "  0.74535408  0.74535408  0.7452977   0.74535055  0.74535362  0.74535055\n",
      "  0.74563658  0.74535489  0.74563658  0.7455172   0.74560149  0.74525654\n",
      "  0.74534839  0.74529985  0.74535361  0.74535105  0.74531773  0.74513274\n",
      "  0.74535137  0.74535362  0.74535005  0.74535518  0.74535362  0.74535519\n",
      "  0.74535071  0.74534904  0.74535362  0.74535055  0.74535055  0.74574326\n",
      "  0.74535734  0.74574326  0.74575122  0.74517432  0.74530427  0.74525654\n",
      "  0.74524134  0.7453536   0.74524134  0.74512903  0.74504311  0.74534854\n",
      "  0.74535362  0.74534854  0.74535518  0.74535519  0.74535362  0.74535645\n",
      "  0.74534764  0.74535362  0.74534764  0.74532541  0.74588542  0.74536392\n",
      "  0.74588542  0.74713224  0.74517427  0.74517432  0.74484778  0.74520687\n",
      "  0.74535354  0.74520687  0.74503876  0.74489456  0.74534603  0.74535362\n",
      "  0.74534602  0.74535488  0.74535763  0.74535362  0.74534436  0.74535362\n",
      "  0.74535325  0.74528658  0.74455898  0.74533879  0.74588542  0.745431\n",
      "  0.74676846  0.74505972  0.74445594  0.74503567  0.74535021  0.74520687\n",
      "  0.74535166  0.74529981  0.74501068  0.74535252  0.74535338  0.74523766\n",
      "  0.74536025  0.74535362  0.74535763  0.74534124  0.74535362  0.74534124\n",
      "  0.74521556  0.74429104  0.74483735  0.74776713  0.74555306  0.74776713\n",
      "  0.74376199  0.74474082  0.74532914  0.74503567  0.74510472  0.74534711\n",
      "  0.74519348  0.74489492  0.74534692  0.74532745  0.74536509  0.74535365\n",
      "  0.74535362  0.7453657   0.7453332   0.74535362  0.74535359  0.74533054\n",
      "  0.74075473  0.74067427  0.74944113  0.74587157  0.74944113  0.74417874\n",
      "  0.74523551  0.74474077  0.74445611  0.74503659  0.74533343  0.74503659\n",
      "  0.74477054  0.74522014  0.74537536  0.74535418  0.74536509  0.74535366\n",
      "  0.7453793   0.74531829  0.74535361  0.74533053  0.7453527   0.74530066\n",
      "  0.72314869  0.75335452  0.74676588  0.74256634  0.74475936  0.74474993\n",
      "  0.74376196  0.74485518  0.74519443  0.74503659  0.74520878  0.74486425\n",
      "  0.74539196  0.74536366  0.74536366  0.74535598  0.74535456  0.74535561\n",
      "  0.74484781  0.74535314  0.74502455  0.74534754  0.74506447  0.76466154\n",
      "  0.75333611  0.75325241  0.73200725  0.74385423  0.74339626  0.74306683\n",
      "  0.74485518  0.74495631  0.74475191  0.745001    0.74475197  0.7448052\n",
      "  0.74539202  0.745392    0.74532194  0.74542466  0.74528039  0.74494679\n",
      "  0.74528381  0.74494676  0.74523453  0.74478215  0.76527761  0.76501793\n",
      "  0.767508    0.7407149   0.74127142  0.74071492  0.74438985  0.74457384\n",
      "  0.74471665  0.74460057  0.74472722  0.74460052]\n"
     ]
    }
   ],
   "source": [
    "print(omega-omega_c)\n",
    "print(\"expofunc\",(1.0 - np.exp(-omega / omega_c)))"
   ]
  },
  {
   "cell_type": "markdown",
   "id": "501d09ec",
   "metadata": {},
   "source": [
    "The above plot illustrates how the SPSTE allows erosion to occur even when the erosion potential lies at or below the nominal threshold."
   ]
  },
  {
   "cell_type": "code",
   "execution_count": null,
   "id": "d0ef0fe9",
   "metadata": {},
   "outputs": [],
   "source": []
  },
  {
   "cell_type": "markdown",
   "id": "c27da24a",
   "metadata": {},
   "source": [
    "## References\n",
    "\n",
    "Barnhart, K. R., Glade, R. C., Shobe, C. M., & Tucker, G. E. (2019). Terrainbento 1.0: a Python package for multi-model analysis in long-term drainage basin evolution. Geoscientific Model Development, 12(4), 1267-1297.\n",
    "\n",
    "Clark, M. P., & Kavetski, D. (2010). Ancient numerical daemons of conceptual hydrological modeling: 1. Fidelity and efficiency of time stepping schemes. Water Resources Research, 46(10).\n",
    "\n",
    "Howard, A. D., Dietrich, W. E., & Seidl, M. A. (1994). Modeling fluvial erosion on regional to continental scales. Journal of Geophysical Research: Solid Earth, 99(B7), 13971-13986.\n",
    "\n",
    "Kavetski, D., & Clark, M. P. (2010). Ancient numerical daemons of conceptual hydrological modeling: 2. Impact of time stepping schemes on model analysis and prediction. Water Resources Research, 46(10).\n",
    "\n",
    "Kavetski, D., & Clark, M. P. (2011). Numerical troubles in conceptual hydrology: Approximations, absurdities and impact on hypothesis testing. Hydrological Processes, 25(4), 661-670.\n",
    "\n",
    "Whipple, K. X., Hancock, G. S., & Anderson, R. S. (2000). River incision into bedrock: Mechanics and relative efficacy of plucking, abrasion, and cavitation. Geological Society of America Bulletin, 112(3), 490-503.\n",
    "\n",
    "Whipple, K. X., & Tucker, G. E. (1999). Dynamics of the stream‐power river incision model: Implications for height limits of mountain ranges, landscape response timescales, and research needs. Journal of Geophysical Research: Solid Earth, 104(B8), 17661-17674.\n",
    "\n",
    "Wilcock, P. R., & McArdell, B. W. (1997). Partial transport of a sand/gravel sediment. Water Resources Research, 33(1), 235-245."
   ]
  }
 ],
 "metadata": {
  "kernelspec": {
   "display_name": "Python 3 (ipykernel)",
   "language": "python",
   "name": "python3"
  },
  "language_info": {
   "codemirror_mode": {
    "name": "ipython",
    "version": 3
   },
   "file_extension": ".py",
   "mimetype": "text/x-python",
   "name": "python",
   "nbconvert_exporter": "python",
   "pygments_lexer": "ipython3",
   "version": "3.11.8"
  }
 },
 "nbformat": 4,
 "nbformat_minor": 5
}
