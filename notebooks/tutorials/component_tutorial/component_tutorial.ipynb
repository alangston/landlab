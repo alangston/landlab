{
 "cells": [
  {
   "cell_type": "markdown",
   "metadata": {},
   "source": [
    "<a href=\"http://landlab.github.io\"><img style=\"float: left\" src=\"../../landlab_header.png\"></a>"
   ]
  },
  {
   "cell_type": "markdown",
   "metadata": {},
   "source": [
    "# Getting to know the Landlab component library"
   ]
  },
  {
   "cell_type": "markdown",
   "metadata": {},
   "source": [
    "<hr>\n",
    "<small>For more Landlab tutorials, click here: <a href=\"https://landlab.readthedocs.io/en/latest/user_guide/tutorials.html\">https://landlab.readthedocs.io/en/latest/user_guide/tutorials.html</a></small>\n",
    "<hr>"
   ]
  },
  {
   "cell_type": "markdown",
   "metadata": {},
   "source": [
    "This notebook walks you through the stages of creating and running a Landlab model using the Landlab component library.\n",
    "\n",
    "We are going to create three models: firstly, a single-component driver implementing just linear diffusion; then a three-component driver implementing linear diffusion, flow routing, and stream power incision; and finally a similar model, but implementing a storm-interstorm sequence.\n",
    "\n",
    "# The basics: one component\n",
    "\n",
    "Let's begin with the one-component diffusion model.\n",
    "\n",
    "Firstly, import the library elements we'll need. The component classes can all be imported from the `landlab.components` library. They're all formatted in CamelCaseLikeThis. Anything you see in that folder that isn't formatted like this isn't a component!"
   ]
  },
  {
   "cell_type": "code",
   "execution_count": 4,
   "metadata": {},
   "outputs": [],
   "source": [
    "from landlab.components import LinearDiffuser\n",
    "from landlab.plot import imshow_grid\n",
    "from landlab import RasterModelGrid\n",
    "import matplotlib as mpl\n",
    "import matplotlib.cm as cm\n",
    "from matplotlib.pyplot import figure, show, plot, xlabel, ylabel, title\n",
    "import numpy as np"
   ]
  },
  {
   "cell_type": "markdown",
   "metadata": {},
   "source": [
    "Let's start by creating the grid that we'll do the first part of this exercise with, and putting some data into its fields. Note that you need to create the fields that a component takes as inputs *before* instantiating a component - though you can put values into the arrays later if you need to (as illustrated below). For more info on working with fields, see the *fields* tutorial."
   ]
  },
  {
   "cell_type": "code",
   "execution_count": 2,
   "metadata": {},
   "outputs": [],
   "source": [
    "mg = RasterModelGrid((80, 80), xy_spacing=5.)\n",
    "z = mg.add_zeros('topographic__elevation', at=\"node\")"
   ]
  },
  {
   "cell_type": "markdown",
   "metadata": {},
   "source": [
    "How did we know this was a field we needed as an input? Well, firstly because we read the component documentation (**always do this!**), but secondly we can get a reminder using the Landlab Component Standard Interface:"
   ]
  },
  {
   "cell_type": "code",
   "execution_count": 3,
   "metadata": {},
   "outputs": [
    {
     "data": {
      "text/plain": [
       "('topographic__elevation',)"
      ]
     },
     "execution_count": 3,
     "metadata": {},
     "output_type": "execute_result"
    }
   ],
   "source": [
    "LinearDiffuser.input_var_names"
   ]
  },
  {
   "cell_type": "markdown",
   "metadata": {},
   "source": [
    "Note we didn't have to instantiate the component to be able to do this! Other standard properties are `output_var_names` and `optional_var_names`; pass an input or output name to `var_loc`, `var_type`, `var_units`, and `var_definition` to get the centering ('node', 'link', etc.), array dtype (float, int), units (meters, etc.), and a descriptive string, respectively. `var_help` will give you a lot of this information at once:"
   ]
  },
  {
   "cell_type": "code",
   "execution_count": 4,
   "metadata": {},
   "outputs": [
    {
     "name": "stdout",
     "output_type": "stream",
     "text": [
      "name: topographic__elevation\n",
      "description:\n",
      "  Land surface topographic elevation\n",
      "units: m\n",
      "at: node\n",
      "intent: inout\n"
     ]
    }
   ],
   "source": [
    "LinearDiffuser.var_help('topographic__elevation')"
   ]
  },
  {
   "cell_type": "markdown",
   "metadata": {},
   "source": [
    "It's also a good idea to set the grid boundary conditions before component instantiation. Let's have fixed value top and bottom and closed left and right (see the *boundary conditions* tutorial):"
   ]
  },
  {
   "cell_type": "code",
   "execution_count": 5,
   "metadata": {},
   "outputs": [],
   "source": [
    "for edge in (mg.nodes_at_left_edge, mg.nodes_at_right_edge):\n",
    "    mg.status_at_node[edge] = mg.BC_NODE_IS_CLOSED \n",
    "for edge in (mg.nodes_at_top_edge, mg.nodes_at_bottom_edge):\n",
    "    mg.status_at_node[edge] = mg.BC_NODE_IS_FIXED_VALUE"
   ]
  },
  {
   "cell_type": "markdown",
   "metadata": {},
   "source": [
    "You will find that all components within landlab share a similar interface. We'll examine how it looks first on the diffusion component.\n",
    "\n",
    "Landlab components have a standardised instantiation signature. Inputs to the component can be fed in as arguments to the constructor (i.e., the function that gets called when you create a new instances of a component), rather than being fed in as strings from a text input file (though note, you an still do this, see below). This has two major advantages: firstly, components now have plainly declared default values, which are visible just as they would be in, say, a numpy function; secondly, because the inputs are now Python objects, it's a lot easier to work with spatially variable inputs that need to be passed in as arrays, and also to feed dynamically changing inputs into a component.\n",
    "\n",
    "The standard signature to instantiate a component looks like this:\n",
    "\n",
    "```python\n",
    "MyComponent(grid, input1=default1, input2=default2, input3=default3, ...)\n",
    "```\n",
    "\n",
    "Because defaults are provided, you can instantiate a component with default values very simply. The diffuser, for example, requires only that a `linear_diffusity` be supplied:"
   ]
  },
  {
   "cell_type": "code",
   "execution_count": 6,
   "metadata": {},
   "outputs": [],
   "source": [
    "lin_diffuse = LinearDiffuser(mg, linear_diffusivity=0.2)"
   ]
  },
  {
   "cell_type": "markdown",
   "metadata": {},
   "source": [
    "We'll see some other ways of initializing (e.g., from an input file) below.\n",
    "\n",
    "Now we're ready to run the component! Run methods are also standardized. Most Landlab components have a standard run method named `run_one_step`, and it looks like this:\n",
    "\n",
    "```python\n",
    "my_comp.run_one_step(dt)\n",
    "```\n",
    "\n",
    "If the component is time-dependent, `dt`, the timestep, will be the first argument. (In Landlab 1.x, some components have subsequent keywords, which will typically be flags that control the way the component runs, and usually can be left as their default values; these extra keywords are absent in Landlab 2.x). Note that nothing is returned from a run method like this, but that nonetheless *the grid fields are updated*.\n",
    "\n",
    "This `dt` is properly thought of as the *external model timestep*; it controls essentially the frequency at which the various Landlab components you're implementing can exchange information with each other and with the driver (e.g., frequency at which uplift steps are added to the grid). If your model has a stability condition that demands a shorter timestep, the external timestep will be subdivided internally down to this shorter timescale.\n",
    "\n",
    "So let's do it. It's up to you as the component designer to make sure your driver script accounts properly for the total time the model runs. Here, we want to run for 200000 years with a timestep of 1000 years, with an uplift rate of 0.001 m/y. So:"
   ]
  },
  {
   "cell_type": "code",
   "execution_count": 7,
   "metadata": {},
   "outputs": [
    {
     "name": "stdout",
     "output_type": "stream",
     "text": [
      "0.0\n",
      "50000.0\n",
      "100000.0\n",
      "150000.0\n"
     ]
    }
   ],
   "source": [
    "total_t = 200000.\n",
    "dt = 1000.\n",
    "uplift_rate = 0.001\n",
    "nt = int(total_t // dt)\n",
    "# ^note if we didn't know a priori that there are a round number of steps dt in the\n",
    "# total time, we'd have to take care to account for the \"extra\" time (see example below)\n",
    "for i in range(nt):\n",
    "    lin_diffuse.run_one_step(dt)\n",
    "    z[mg.core_nodes] += uplift_rate * dt  # add the uplift\n",
    "    # add some output to let us see we aren't hanging:\n",
    "    if i % 50 == 0:\n",
    "        print(i*dt)"
   ]
  },
  {
   "cell_type": "markdown",
   "metadata": {},
   "source": [
    "Note that we're using `z` to input the uplift here, which we already bound to the Landlab field `mg.at_node['topographic__elevation]` when we instantiated that field. This works great, but always be careful to update the values *inside* the array, not to reset the variable as equal to something else, i.e., to put new values in the field do::\n",
    "\n",
    "```python\n",
    "z[:] = new_values  # values copied into the existing field\n",
    "```\n",
    "\n",
    "not\n",
    "```python\n",
    "z = new_values  # z is now \"new_values\", not the field!\n",
    "```\n",
    "\n",
    "Now plot the output!"
   ]
  },
  {
   "cell_type": "code",
   "execution_count": 8,
   "metadata": {},
   "outputs": [
    {
     "data": {
      "image/png": "[encoded data removed]",
      "text/plain": [
       "<Figure size 432x288 with 2 Axes>"
      ]
     },
     "metadata": {
      "needs_background": "light"
     },
     "output_type": "display_data"
    }
   ],
   "source": [
    "# the following line makes figures show up correctly in this document (only needed for Jupyter notebook)\n",
    "%matplotlib inline\n",
    "\n",
    "# Create a figure and plot the elevations\n",
    "figure(1)\n",
    "im = imshow_grid(mg, 'topographic__elevation', grid_units = ['m','m'],\n",
    "                 var_name='Elevation (m)')"
   ]
  },
  {
   "cell_type": "code",
   "execution_count": 9,
   "metadata": {},
   "outputs": [
    {
     "data": {
      "text/plain": [
       "Text(0.5, 1.0, 'topographic__elevation cross section')"
      ]
     },
     "execution_count": 9,
     "metadata": {},
     "output_type": "execute_result"
    },
    {
     "data": {
      "image/png": "[encoded data removed]",
      "text/plain": [
       "<Figure size 432x288 with 1 Axes>"
      ]
     },
     "metadata": {
      "needs_background": "light"
     },
     "output_type": "display_data"
    }
   ],
   "source": [
    "figure(2)\n",
    "elev_rast = mg.node_vector_to_raster(z)\n",
    "ycoord_rast = mg.node_vector_to_raster(mg.node_y)\n",
    "ncols = mg.number_of_node_columns\n",
    "im = plot(ycoord_rast[:, int(ncols // 2)], elev_rast[:, int(ncols // 2)])\n",
    "xlabel('horizontal distance (m)')\n",
    "ylabel('vertical distance (m)')\n",
    "title('topographic__elevation cross section')"
   ]
  },
  {
   "cell_type": "markdown",
   "metadata": {},
   "source": [
    "Now, let's repeat this exercise, but illustrating the way we can input fields as some parameters for components. We're going to make the diffusivity spatially variable, falling by a factor of ten as we move across the grid."
   ]
  },
  {
   "cell_type": "code",
   "execution_count": 10,
   "metadata": {},
   "outputs": [
    {
     "data": {
      "image/png": "[encoded data removed]",
      "text/plain": [
       "<Figure size 432x288 with 2 Axes>"
      ]
     },
     "metadata": {
      "needs_background": "light"
     },
     "output_type": "display_data"
    }
   ],
   "source": [
    "z[:] = 0.  # reset the elevations to zero\n",
    "k_diff = mg.zeros('node', dtype=float)\n",
    "k_diff.fill(1.)\n",
    "k_diff *= (mg.node_x.max() - 0.9 * mg.x_of_node) / mg.x_of_node.max()\n",
    "k_field = mg.add_field('linear_diffusivity', k_diff, at='node', clobber=True)\n",
    "imshow_grid(mg, k_diff, var_name='k_diff', cmap='winter')  # check it looks good"
   ]
  },
  {
   "cell_type": "markdown",
   "metadata": {},
   "source": [
    "Now we re-initialize the component instance to bind the k_diff field to the component:"
   ]
  },
  {
   "cell_type": "code",
   "execution_count": 11,
   "metadata": {},
   "outputs": [],
   "source": [
    "lin_diffuse = LinearDiffuser(mg, linear_diffusivity='linear_diffusivity')\n",
    "# we could also have passed in `k_diff` in place of the string"
   ]
  },
  {
   "cell_type": "markdown",
   "metadata": {},
   "source": [
    "...and run just as before. Note this will be slower than before; the internal timestep is shorter because we've modified the diffusivities."
   ]
  },
  {
   "cell_type": "code",
   "execution_count": 12,
   "metadata": {},
   "outputs": [
    {
     "name": "stdout",
     "output_type": "stream",
     "text": [
      "0.0\n",
      "50000.0\n",
      "100000.0\n",
      "150000.0\n"
     ]
    },
    {
     "data": {
      "image/png": "[encoded data removed]",
      "text/plain": [
       "<Figure size 432x288 with 2 Axes>"
      ]
     },
     "metadata": {
      "needs_background": "light"
     },
     "output_type": "display_data"
    }
   ],
   "source": [
    "for i in range(nt):\n",
    "    lin_diffuse.run_one_step(dt)\n",
    "    z[mg.core_nodes] += uplift_rate * dt  # add the uplift\n",
    "    # add some output to let us see we aren't hanging:\n",
    "    if i % 50 == 0:\n",
    "        print(i*dt)\n",
    "figure(3)\n",
    "im = imshow_grid(mg, 'topographic__elevation', grid_units = ['m','m'],\n",
    "                 var_name='Elevation (m)')"
   ]
  },
  {
   "cell_type": "markdown",
   "metadata": {},
   "source": [
    "# Running two or more components\n",
    "\n",
    "Now we're going to take a similar approach but this time combine the outputs of three distinct Landlab components: the diffuser, the monodirectional flow router, and the stream power incisor. For clarity, we're going to repeat the whole process from the start.\n",
    "\n",
    "So first, let's import everything we don't already have:"
   ]
  },
  {
   "cell_type": "code",
   "execution_count": 1,
   "metadata": {},
   "outputs": [],
   "source": [
    "from landlab.components import FlowAccumulator, FastscapeEroder\n",
    "from landlab import load_params"
   ]
  },
  {
   "cell_type": "markdown",
   "metadata": {
    "collapsed": true
   },
   "source": [
    "More components means more input parameters. So this time, we're going to make our lives easier by instantiating our components from an [input file](./coupled_params.txt). Note also that we've now switched length units to km from m.\n",
    "\n",
    "We're going to handle our input file using the very powerful `load_params` Landlab function. This function can read input text files formatted in a variety of different ways, including  the yaml standard. It automatically types the values it finds in the input file (i.e., makes them int, float, string, etc.), and returns them as a Python dictionary. This dictionary is the model parameter dictionary (MPD). However, feel free to use your own way of reading in a text file. The important thing is that you end up with a **dictionary** that contains `'input_parameter_name': parameter_value` pairs. Note that the file format has subsets of parameters grouped, using indentation:\n",
    "\n",
    "```yaml\n",
    "stream_power:\n",
    "  K_sp: 0.3\n",
    "  m_sp: 0.5\n",
    "linear_diffuser:\n",
    "  linear_diffusivity: 0.0001\n",
    "```\n",
    "\n",
    "When read into a dictionary, this forms two sub-dictionaries, with the keys *stream_power* and *linear_diffuser*. We will pass these two sub-dictionaries as `**kwargs` arguments to the FastscapeEroder and LinearDiffuser components, respectively."
   ]
  },
  {
   "cell_type": "code",
   "execution_count": 2,
   "metadata": {},
   "outputs": [
    {
     "name": "stdout",
     "output_type": "stream",
     "text": [
      "{'nrows': 100, 'ncols': 100, 'dx': 0.02, 'dt': 0.5, 'total_time': 100.0, 'uplift_rate': 0.001, 'stream_power': {'K_sp': 0.3, 'm_sp': 0.5}, 'linear_diffuser': {'linear_diffusivity': 0.0001}}\n"
     ]
    }
   ],
   "source": [
    "input_file = './coupled_params.txt'\n",
    "inputs = load_params(input_file) # load the data into a dictionary\n",
    "\n",
    "nrows = inputs['nrows']\n",
    "ncols = inputs['ncols']\n",
    "dx = inputs['dx']\n",
    "uplift_rate = inputs['uplift_rate']\n",
    "total_t = inputs['total_time']\n",
    "dt = inputs['dt']\n",
    "\n",
    "nt = int(total_t // dt) #this is how many loops we'll need\n",
    "uplift_per_step = uplift_rate * dt\n",
    "\n",
    "# illustrate what the MPD looks like:\n",
    "print(inputs)"
   ]
  },
  {
   "cell_type": "markdown",
   "metadata": {},
   "source": [
    "Now instantiate the grid, set the initial conditions, and set the boundary conditions:"
   ]
  },
  {
   "cell_type": "code",
   "execution_count": 5,
   "metadata": {},
   "outputs": [],
   "source": [
    "mg = RasterModelGrid((nrows, ncols), dx)\n",
    "z = mg.add_zeros('topographic__elevation', at='node')\n",
    "# add some roughness, as this lets \"natural\" channel planforms arise\n",
    "initial_roughness = np.random.rand(z.size) / 100000.\n",
    "z += initial_roughness\n",
    "for edge in (mg.nodes_at_left_edge, mg.nodes_at_right_edge):\n",
    "    mg.status_at_node[edge] = mg.BC_NODE_IS_CLOSED\n",
    "for edge in (mg.nodes_at_top_edge, mg.nodes_at_bottom_edge):\n",
    "    mg.status_at_node[edge] = mg.BC_NODE_IS_FIXED_VALUE"
   ]
  },
  {
   "cell_type": "markdown",
   "metadata": {},
   "source": [
    "So far, so familiar.\n",
    "\n",
    "Now we're going to instantiate all our components, using the MPD. We can do this using a bit of Python magic that lets you pass dictionaries into functions as sets of keywords. We do this by passing the dictionary as the final input, with to asterisks - `**` in front of it:"
   ]
  },
  {
   "cell_type": "code",
   "execution_count": null,
   "metadata": {},
   "outputs": [],
   "source": [
    "fr = FlowAccumulator(mg)\n",
    "sp = FastscapeEroder(mg, **inputs['stream_power'])\n",
    "lin_diffuse = LinearDiffuser(mg, **inputs['linear_diffuser'])"
   ]
  },
  {
   "cell_type": "markdown",
   "metadata": {},
   "source": [
    "What's happening here is that the component is looking inside the dictionary for any keys that match its keywords, and using them. Values in the dictionary will override component defaults, but note that you cannot provide a keyword manually that is also defined in a supplied dictionary, i.e., this would result in a TypeError:\n",
    "\n",
    "```python\n",
    ">>> lin_diffuse = LinearDiffuser(mg, linear_diffusivity=1.,\n",
    "                                 **{'linear_diffusivity': 1.})\n",
    "TypeError\n",
    "```\n",
    "\n",
    "A note on the `FlowAccumulator`. This component provides a variety of options for the flow direction method used (e.g., D4/SteepestDescent, D8, MFD etc.). By default it uses D4 flow routing and does not deal with depression finding and routing.\n",
    "\n",
    "In order to use the `DepressionFinderAndRouter` inside the `FlowAccumulator` specify `depression_finder = 'DepressionFinderAndRouter'`.\n",
    "## If you are using the FlowAccumulator in additional projects or using this notebook as a starting place for additional work, work through the three tutorials on the `FlowDirectors` and the `FlowAccumulator` first. \n",
    "\n",
    "And now we run! We're going to run once with the diffusion and once without."
   ]
  },
  {
   "cell_type": "code",
   "execution_count": null,
   "metadata": {},
   "outputs": [],
   "source": [
    "for i in range(nt):\n",
    "    # lin_diffuse.run_one_step(dt) no diffusion this time\n",
    "    fr.run_one_step() # run_one_step isn't time sensitive, so it doesn't take dt as input\n",
    "    sp.run_one_step(dt)\n",
    "    mg.at_node['topographic__elevation'][mg.core_nodes] += uplift_per_step # add the uplift\n",
    "    if i % 20 == 0:\n",
    "        print ('Completed loop %d' % i)"
   ]
  },
  {
   "cell_type": "markdown",
   "metadata": {
    "collapsed": true
   },
   "source": [
    "You'll need to give the above code a few seconds to run."
   ]
  },
  {
   "cell_type": "code",
   "execution_count": null,
   "metadata": {},
   "outputs": [],
   "source": [
    "figure('topo without diffusion')\n",
    "imshow_grid(mg, 'topographic__elevation', grid_units=['km','km'], var_name='Elevation (km)')"
   ]
  },
  {
   "cell_type": "markdown",
   "metadata": {
    "collapsed": true
   },
   "source": [
    "And now let's reset the grid elevations and do everything again, but this time, with the diffusion turned *on*:"
   ]
  },
  {
   "cell_type": "code",
   "execution_count": null,
   "metadata": {},
   "outputs": [],
   "source": [
    "z[:] = initial_roughness\n",
    "for i in range(nt):\n",
    "    lin_diffuse.run_one_step(dt)  # no diffusion this time\n",
    "    fr.run_one_step() # run_one_step isn't time sensitive, so it doesn't take dt as input\n",
    "    sp.run_one_step(dt)\n",
    "    mg.at_node['topographic__elevation'][mg.core_nodes] += uplift_per_step # add the uplift\n",
    "    if i % 20 == 0:\n",
    "        print ('Completed loop %d' % i)"
   ]
  },
  {
   "cell_type": "code",
   "execution_count": null,
   "metadata": {},
   "outputs": [],
   "source": [
    "figure('topo with diffusion')\n",
    "imshow_grid(mg, 'topographic__elevation', grid_units=['km','km'],\n",
    "            var_name='Elevation (km)')"
   ]
  },
  {
   "cell_type": "markdown",
   "metadata": {
    "collapsed": true
   },
   "source": [
    "Beautiful! We've smoothed away the fine-scale channel roughness, as expected, and produced some lovely convex-up hillslopes in its place. Note that even though the initial conditions were identical in both cases, including the roughness, the channel positions have been moved significantly by the hillslope diffusion into the channel."
   ]
  },
  {
   "cell_type": "markdown",
   "metadata": {},
   "source": [
    "As a final step, we're going to show off some of Landlab's fancier functionality. We're going to repeat the above coupled model run, but this time we're going to plot some evolving channel profiles, and we're going to drive the simulation with a sequence of storms, not just a fixed timestep. We'll also produce a slope-area plot for the final conditions.\n",
    "\n",
    "Working with timesteps of varying length requires a bit more bookkeeping, but the principle is the same as what we've seen before.\n",
    "\n",
    "So, load the new landlab objects we'll need, then reset the initial conditions:"
   ]
  },
  {
   "cell_type": "code",
   "execution_count": null,
   "metadata": {},
   "outputs": [],
   "source": [
    "from landlab.components import ChannelProfiler, PrecipitationDistribution\n",
    "from matplotlib.pyplot import loglog"
   ]
  },
  {
   "cell_type": "code",
   "execution_count": null,
   "metadata": {},
   "outputs": [],
   "source": [
    "z[:] = initial_roughness"
   ]
  },
  {
   "cell_type": "markdown",
   "metadata": {},
   "source": [
    "Instantiate the storm generator. This time, we're going to mix an input file for some components with manual definition of others (that we already defined above)."
   ]
  },
  {
   "cell_type": "code",
   "execution_count": null,
   "metadata": {},
   "outputs": [],
   "source": [
    "dt = 0.1\n",
    "total_t = 250.\n",
    "\n",
    "storm_inputs = load_params('./coupled_params_storms.txt')\n",
    "precip = PrecipitationDistribution(total_t=total_t, delta_t=dt, **storm_inputs)\n",
    "print(storm_inputs)"
   ]
  },
  {
   "cell_type": "code",
   "execution_count": null,
   "metadata": {},
   "outputs": [],
   "source": [
    "# make a color mapping appropriate for our time duration\n",
    "norm = mpl.colors.Normalize(vmin=0, vmax=total_t)\n",
    "map_color = cm.ScalarMappable(norm=norm, cmap=\"viridis\")"
   ]
  },
  {
   "cell_type": "markdown",
   "metadata": {},
   "source": [
    "Now run:"
   ]
  },
  {
   "cell_type": "code",
   "execution_count": null,
   "metadata": {
    "scrolled": false
   },
   "outputs": [],
   "source": [
    "out_interval = 20.\n",
    "last_trunc = total_t # we use this to trigger taking an output plot\n",
    "for (interval_duration, rainfall_rate) in precip.yield_storm_interstorm_duration_intensity():\n",
    "    if rainfall_rate > 0.:\n",
    "        # note diffusion also only happens when it's raining...\n",
    "        fr.run_one_step()\n",
    "        sp.run_one_step(interval_duration)\n",
    "        lin_diffuse.run_one_step(interval_duration)\n",
    "    z[mg.core_nodes] += uplift_rate * interval_duration\n",
    "    this_trunc = precip.elapsed_time // out_interval\n",
    "    if this_trunc != last_trunc:  # time to plot a new profile!\n",
    "        print('made it to time %d' % (out_interval * this_trunc))\n",
    "        last_trunc = this_trunc\n",
    "        figure(\"long_profiles\")\n",
    "        # get and plot the longest profile\n",
    "        cp = ChannelProfiler(mg)\n",
    "        cp.run_one_step()\n",
    "        cp.plot_profiles(color = map_color.to_rgba(precip.elapsed_time))\n",
    "        \n",
    "    # no need to track elapsed time, as the generator will stop automatically\n",
    "# make the figure look nicer:\n",
    "figure(\"long_profiles\")\n",
    "xlabel('Distance upstream (km)')\n",
    "ylabel('Elevation (km)')\n",
    "title('Long profiles evolving through time')\n",
    "mpl.pyplot.colorbar(map_color)"
   ]
  },
  {
   "cell_type": "markdown",
   "metadata": {},
   "source": [
    "Note that the \"wobbles\" in the long profile here are being created by the stochastic storm sequence. We could reduce their impact by reducing the storm-interstorm timescales, or allowing diffusion while it's not raining, but we've chosen not to here to show that the storms are having an effect."
   ]
  },
  {
   "cell_type": "code",
   "execution_count": null,
   "metadata": {},
   "outputs": [],
   "source": [
    "figure('topo with diffusion and storms')\n",
    "imshow_grid(mg, 'topographic__elevation', grid_units=['km','km'], var_name='Elevation (km)')"
   ]
  },
  {
   "cell_type": "markdown",
   "metadata": {},
   "source": [
    "We can also plot the location of the channels in map view. \n",
    "\n",
    "Here we plot all channel segments with drainage area greater than 0.01 square kilometers in the seven biggest drainage basins. "
   ]
  },
  {
   "cell_type": "code",
   "execution_count": null,
   "metadata": {},
   "outputs": [],
   "source": [
    "cp = ChannelProfiler(mg, number_of_watersheds=7, minimum_channel_threshold=0.01, main_channel_only=False)\n",
    "cp.run_one_step()\n",
    "cp.plot_profiles_in_map_view()"
   ]
  },
  {
   "cell_type": "markdown",
   "metadata": {},
   "source": [
    "Next we make a slope area plot. "
   ]
  },
  {
   "cell_type": "code",
   "execution_count": null,
   "metadata": {},
   "outputs": [],
   "source": [
    "figure('final slope-area plot')\n",
    "loglog(mg.at_node['drainage_area'], mg.at_node['topographic__steepest_slope'],'.')\n",
    "xlabel('Drainage area (km**2)')\n",
    "ylabel('Local slope')\n",
    "title('Slope-Area plot for whole landscape')"
   ]
  },
  {
   "cell_type": "markdown",
   "metadata": {},
   "source": [
    "That's a nice set of figures, eh? You can easily spend more time with pylab prettifying them if you want."
   ]
  },
  {
   "cell_type": "markdown",
   "metadata": {},
   "source": [
    "### Click here for more <a href=\"https://landlab.readthedocs.io/en/latest/user_guide/tutorials.html\">Landlab tutorials</a>"
   ]
  }
 ],
 "metadata": {
  "kernelspec": {
   "display_name": "Python 3",
   "language": "python",
   "name": "python3"
  },
  "language_info": {
   "codemirror_mode": {
    "name": "ipython",
    "version": 3
   },
   "file_extension": ".py",
   "mimetype": "text/x-python",
   "name": "python",
   "nbconvert_exporter": "python",
   "pygments_lexer": "ipython3",
   "version": "3.7.6"
  }
 },
 "nbformat": 4,
 "nbformat_minor": 1
}
