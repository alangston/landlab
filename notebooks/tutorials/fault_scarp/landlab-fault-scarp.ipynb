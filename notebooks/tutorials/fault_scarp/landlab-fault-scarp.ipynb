{
 "cells": [
  {
   "cell_type": "markdown",
   "metadata": {},
   "source": [
    "<a href=\"http://landlab.github.io\"><img style=\"float: left\" src=\"../../landlab_header.png\"></a>"
   ]
  },
  {
   "cell_type": "markdown",
   "metadata": {},
   "source": [
    "# Introduction to Landlab: Creating a simple 2D scarp diffusion model"
   ]
  },
  {
   "cell_type": "markdown",
   "metadata": {},
   "source": [
    "<hr>\n",
    "<small>For more Landlab tutorials, click here: <a href=\"https://landlab.readthedocs.io/en/latest/user_guide/tutorials.html\">https://landlab.readthedocs.io/en/latest/user_guide/tutorials.html</a></small>\n",
    "<hr>\n"
   ]
  },
  {
   "cell_type": "markdown",
   "metadata": {},
   "source": [
    "This tutorial illustrates how you can use Landlab to construct a simple two-dimensional numerical model on a regular (raster) grid, using a simple forward-time, centered-space numerical scheme. The example is the erosional degradation of an earthquake fault scarp, and which evolves over time in response to the gradual downhill motion of soil. Here we use a simple \"geomorphic diffusion\" model for landform evolution, in which the downhill flow of soil is assumed to be proportional to the (downhill) gradient of the land surface multiplied by a transport coefficient.\n",
    "\n",
    "We start by importing the [numpy](https://numpy.org) and [matplotlib](https://matplotlib.org) libraries:"
   ]
  },
  {
   "cell_type": "code",
   "execution_count": 1,
   "metadata": {},
   "outputs": [],
   "source": [
    "import numpy as np\n",
    "import matplotlib.pyplot as plt\n",
    "%matplotlib inline"
   ]
  },
  {
   "cell_type": "markdown",
   "metadata": {},
   "source": [
    "## Part 1: 1D version using numpy\n",
    "\n",
    "This example uses a finite-volume numerical solution to the 2D diffusion equation. The 2D diffusion equation in this case is derived as follows. Continuity of mass states that:\n",
    "\n",
    "$\\frac{\\partial z}{\\partial t} = -\\nabla \\cdot \\mathbf{q}_s$,\n",
    "\n",
    "where $z$ is elevation, $t$ is time, the vector $\\mathbf{q}_s$ is the volumetric soil transport rate per unit width, and $\\nabla$ is the divergence operator (here in two dimensions). (Note that we have omitted a porosity factor here; its effect will be subsumed in the transport coefficient). The sediment flux vector depends on the slope gradient:\n",
    "\n",
    "$\\mathbf{q}_s = -D \\nabla z$,\n",
    "\n",
    "where $D$ is a transport-rate coefficient---sometimes called *hillslope diffusivity*---with dimensions of length squared per time. Combining the two, and assuming $D$ is uniform, we have a classical 2D diffusion equation:\n",
    "\n",
    "$\\frac{\\partial z}{\\partial t} = -\\nabla^2 z$.\n",
    "\n",
    "In this first example, we will create a our 1D domain in $x$ and $z$, and set a value for $D$.\n",
    "\n",
    "This means that the equation we solve will be in 1D. \n",
    "\n",
    "$\\frac{d z}{d t} = \\frac{d q_s}{dx}$,\n",
    "\n",
    "where \n",
    "\n",
    "$q_s = -D \\frac{d z}{dx}$\n"
   ]
  },
  {
   "cell_type": "code",
   "execution_count": 2,
   "metadata": {},
   "outputs": [],
   "source": [
    "dx = 1\n",
    "x = np.arange(0, 100, dx, dtype=float)\n",
    "z = np.zeros(x.shape, dtype=float)\n",
    "D = 0.01"
   ]
  },
  {
   "cell_type": "markdown",
   "metadata": {},
   "source": [
    "Next we must create our fault by uplifting some of the domain. We will increment all elements of `z` in which `x>50`."
   ]
  },
  {
   "cell_type": "code",
   "execution_count": 5,
   "metadata": {},
   "outputs": [
    {
     "name": "stdout",
     "output_type": "stream",
     "text": [
      "[0.00000000e+00 1.12589991e-33 1.70010886e-31 1.26393524e-29\n",
      " 6.16740947e-28 2.22168210e-26 6.30098602e-25 1.46530400e-23\n",
      " 2.87335473e-22 4.84910926e-21 7.15316608e-20 9.33695363e-19\n",
      " 1.08907641e-17 1.14438412e-16 1.09063926e-15 9.48138835e-15\n",
      " 7.55567467e-14 5.54276562e-13 3.75697225e-12 2.36058243e-11\n",
      " 1.37885484e-10 7.50666197e-10 3.81766223e-09 1.81745309e-08\n",
      " 8.11427769e-08 3.40320430e-07 1.34289691e-06 4.99254065e-06\n",
      " 1.75098586e-05 5.80015935e-05 1.81664308e-04 5.38536172e-04\n",
      " 1.51248342e-03 4.02798415e-03 1.01806932e-02 2.44407583e-02\n",
      " 5.57754620e-02 1.21087294e-01 2.50272502e-01 4.92856197e-01\n",
      " 9.25463404e-01 1.65836908e+00 2.83827663e+00 4.64379674e+00\n",
      " 7.27047182e+00 1.09041160e+01 1.56846954e+01 2.16671468e+01\n",
      " 2.87888763e+01 3.68544583e+01 4.55451758e+01 1.54454824e+02\n",
      " 1.63145542e+02 1.71211124e+02 1.78332853e+02 1.84315305e+02\n",
      " 1.89095884e+02 1.92729528e+02 1.95356203e+02 1.97161723e+02\n",
      " 1.98341631e+02 1.99074537e+02 1.99507144e+02 1.99749727e+02\n",
      " 1.99878913e+02 1.99944225e+02 1.99975559e+02 1.99989819e+02\n",
      " 1.99995972e+02 1.99998488e+02 1.99999461e+02 1.99999818e+02\n",
      " 1.99999942e+02 1.99999982e+02 1.99999995e+02 1.99999999e+02\n",
      " 2.00000000e+02 2.00000000e+02 2.00000000e+02 2.00000000e+02\n",
      " 2.00000000e+02 2.00000000e+02 2.00000000e+02 2.00000000e+02\n",
      " 2.00000000e+02 2.00000000e+02 2.00000000e+02 2.00000000e+02\n",
      " 2.00000000e+02 2.00000000e+02 2.00000000e+02 2.00000000e+02\n",
      " 2.00000000e+02 2.00000000e+02 2.00000000e+02 2.00000000e+02\n",
      " 2.00000000e+02 2.00000000e+02 2.00000000e+02 2.00000000e+02]\n"
     ]
    }
   ],
   "source": [
    "z[x>50] += 100\n",
    "print(z)"
   ]
  },
  {
   "cell_type": "markdown",
   "metadata": {},
   "source": [
    "Finally, we will diffuse our fault for 1,000 years.\n",
    "\n",
    "We will use a timestep with a [Courant–Friedrichs–Lewy condition](https://en.wikipedia.org/wiki/Courant–Friedrichs–Lewy_condition) of $C_{cfl}=0.2$. This will keep our solution numerically stable. \n",
    "\n",
    "$C_{cfl} = \\frac{\\Delta t D}{\\Delta x^2} = 0.2$"
   ]
  },
  {
   "cell_type": "code",
   "execution_count": 4,
   "metadata": {},
   "outputs": [
    {
     "data": {
      "text/plain": [
       "<matplotlib.legend.Legend at 0x1de54a11dc8>"
      ]
     },
     "execution_count": 4,
     "metadata": {},
     "output_type": "execute_result"
    },
    {
     "data": {
      "image/png": "[encoded data removed]",
      "text/plain": [
       "<Figure size 432x288 with 1 Axes>"
      ]
     },
     "metadata": {
      "needs_background": "light"
     },
     "output_type": "display_data"
    }
   ],
   "source": [
    "dt = 0.2 * dx * dx / D\n",
    "total_time = 1e3\n",
    "nts = int(total_time/dt)\n",
    "z_orig = z.copy()\n",
    "for i in range(nts):\n",
    "    qs = -D * np.diff(z)/dx\n",
    "    dzdt = -np.diff(qs)/dx\n",
    "    z[1:-1] += dzdt*dt\n",
    "\n",
    "plt.plot(x, z_orig, label=\"Original Profile\")\n",
    "plt.plot(x, z, label=\"Diffused Profile\")\n",
    "plt.legend()"
   ]
  },
  {
   "cell_type": "markdown",
   "metadata": {},
   "source": [
    "The prior example is pretty simple. If this was all you needed to do, you wouldn't need Landlab. \n",
    "\n",
    "But what if you wanted...\n",
    "\n",
    "... to use the same diffusion model in 2D instead of 1D.\n",
    "\n",
    "... to use an irregular grid (in 1 or 2D). \n",
    "\n",
    "... wanted to combine the diffusion model with a more complex model. \n",
    "\n",
    "... have a more complex model you want to use over and over again with different boundary conditions.\n",
    "\n",
    "These are the sorts of problems that Landlab was designed to solve. \n",
    "\n",
    "In the next two sections we will introduce some of the core capabilities of Landlab. \n",
    "\n",
    "In Part 2 we will use the RasterModelGrid, fields, and a numerical utility for calculating flux divergence. \n",
    "\n",
    "In Part 3 we will use the HexagonalModelGrid. \n",
    "\n",
    "In Part 4 we will use the LinearDiffuser component. \n",
    "\n",
    "## Part 2: 2D version using Landlab's Model Grids\n",
    "\n",
    "The Landlab model grids are data structures that represent the model domain (the variable `x` in our prior example). Here we will use `RasterModelGrid` which creates a grid with regularly spaced square grid elements. The RasterModelGrid knows how the elements are connected and how far apart they are.\n",
    "\n",
    "Lets start by creating a RasterModelGrid class. First we need to import it. "
   ]
  },
  {
   "cell_type": "code",
   "execution_count": 6,
   "metadata": {},
   "outputs": [],
   "source": [
    "from landlab import RasterModelGrid"
   ]
  },
  {
   "cell_type": "markdown",
   "metadata": {},
   "source": [
    "\n",
    "### (a) Explore the RasterModelGrid\n",
    "\n",
    "Before we make a RasterModelGrid for our fault example, lets explore the Landlab model grid. \n",
    "\n",
    "Landlab considers the grid as a \"dual\" graph. Two sets of points, lines and polygons that represent 2D space. \n",
    "\n",
    "The first graph considers points called \"nodes\" that are connected by lines called \"links\". The area that surrounds each node is called a \"cell\".\n",
    "\n",
    "First, the nodes"
   ]
  },
  {
   "cell_type": "code",
   "execution_count": 7,
   "metadata": {},
   "outputs": [
    {
     "data": {
      "image/png": "[encoded data removed]",
      "text/plain": [
       "<Figure size 432x288 with 1 Axes>"
      ]
     },
     "metadata": {
      "needs_background": "light"
     },
     "output_type": "display_data"
    }
   ],
   "source": [
    "from landlab.plot.graph import plot_graph\n",
    "grid = RasterModelGrid((4, 5), xy_spacing=(3,4))\n",
    "plot_graph(grid, at=\"node\")"
   ]
  },
  {
   "cell_type": "markdown",
   "metadata": {},
   "source": [
    "You can see that the nodes are points and they are numbered with unique IDs from lower left to upper right. \n",
    "\n",
    "Next the links"
   ]
  },
  {
   "cell_type": "code",
   "execution_count": 8,
   "metadata": {},
   "outputs": [
    {
     "data": {
      "image/png": "[encoded data removed]",
      "text/plain": [
       "<Figure size 432x288 with 1 Axes>"
      ]
     },
     "metadata": {
      "needs_background": "light"
     },
     "output_type": "display_data"
    }
   ],
   "source": [
    "plot_graph(grid, at=\"link\")"
   ]
  },
  {
   "cell_type": "markdown",
   "metadata": {},
   "source": [
    "which are lines that connect the nodes and each have a unique ID number. \n",
    "\n",
    "And finally, the cells"
   ]
  },
  {
   "cell_type": "code",
   "execution_count": 9,
   "metadata": {},
   "outputs": [
    {
     "data": {
      "image/png": "[encoded data removed]",
      "text/plain": [
       "<Figure size 432x288 with 1 Axes>"
      ]
     },
     "metadata": {
      "needs_background": "light"
     },
     "output_type": "display_data"
    }
   ],
   "source": [
    "plot_graph(grid, at=\"cell\")"
   ]
  },
  {
   "cell_type": "markdown",
   "metadata": {},
   "source": [
    "which are polygons centered around the nodes. \n",
    "\n",
    "Landlab is a \"dual\" graph because it also keeps track of a second set of points, lines, and polygons (\"corners\", \"faces\", and \"patches\"). We will not focus on them further.\n",
    "\n",
    "### (b) Use the RasterModelGrid for 2D diffusion \n",
    "\n",
    "Lets continue by making a new grid that is bigger. We will use this for our next fault diffusion example.\n",
    "\n",
    "The syntax in the next line says: create a new *RasterModelGrid* object called **mg**, with 25 rows, 40 columns, and a grid spacing of 10 m."
   ]
  },
  {
   "cell_type": "code",
   "execution_count": 10,
   "metadata": {},
   "outputs": [],
   "source": [
    "mg = RasterModelGrid((25, 40), 10.0)"
   ]
  },
  {
   "cell_type": "markdown",
   "metadata": {},
   "source": [
    "Note the use of object-oriented programming here. `RasterModelGrid` is a class; `mg` is a particular instance of that class, and it contains all the data necessary to fully describe the topology and geometry of this particular grid.\n",
    "\n",
    "Next we'll add a *data field* to the grid, to represent the elevation values at grid nodes. The \"dot\" syntax below indicates that we are calling a function (or *method*) that belongs to the *RasterModelGrid* class, and will act on data contained in **mg**. The arguments indicate that we want the data elements attached to grid nodes (rather than links, for example), and that we want to name this data field `topographic__elevation`. The `add_zeros` method returns the newly created NumPy array."
   ]
  },
  {
   "cell_type": "code",
   "execution_count": 11,
   "metadata": {},
   "outputs": [],
   "source": [
    "z = mg.add_zeros('topographic__elevation', at='node')"
   ]
  },
  {
   "cell_type": "markdown",
   "metadata": {},
   "source": [
    "The above line of code creates space in memory to store 1,000 floating-point values, which will represent the elevation of the land surface at each of our 1,000 grid nodes."
   ]
  },
  {
   "cell_type": "markdown",
   "metadata": {},
   "source": [
    "Let's plot the positions of all the grid nodes. The nodes' *(x,y)* positions are stored in the arrays `mg.x_of_node` and `mg.y_of_node`, respectively."
   ]
  },
  {
   "cell_type": "code",
   "execution_count": 12,
   "metadata": {},
   "outputs": [
    {
     "data": {
      "text/plain": [
       "[<matplotlib.lines.Line2D at 0x1de583bdbc8>]"
      ]
     },
     "execution_count": 12,
     "metadata": {},
     "output_type": "execute_result"
    },
    {
     "data": {
      "image/png": "[encoded data removed]",
      "text/plain": [
       "<Figure size 432x288 with 1 Axes>"
      ]
     },
     "metadata": {
      "needs_background": "light"
     },
     "output_type": "display_data"
    }
   ],
   "source": [
    "plt.plot(mg.x_of_node, mg.y_of_node, '.')"
   ]
  },
  {
   "cell_type": "markdown",
   "metadata": {},
   "source": [
    "If we bothered to count, we'd see that there are indeed 1,000 grid nodes, and a corresponding number of `z` values:"
   ]
  },
  {
   "cell_type": "code",
   "execution_count": null,
   "metadata": {},
   "outputs": [],
   "source": [
    "len(z)"
   ]
  },
  {
   "cell_type": "markdown",
   "metadata": {},
   "source": [
    "Now for some tectonics. Let's say there's a fault trace that angles roughly east-northeast. We can describe the trace with the equation for a line. One trick here: by using `mg.x_of_node`, in the line of code below, we are calculating a *y* (i.e., north-south) position of the fault trace for each grid node---meaning that this is the *y* coordinate of the trace at the *x* coordinate of a given node."
   ]
  },
  {
   "cell_type": "code",
   "execution_count": null,
   "metadata": {},
   "outputs": [],
   "source": [
    "fault_trace_y = 50.0 + 0.25 * mg.x_of_node"
   ]
  },
  {
   "cell_type": "markdown",
   "metadata": {},
   "source": [
    "Here comes the earthquake. For all the nodes north of the fault (i.e., those with a *y* coordinate greater than the corresponding *y* coordinate of the fault trace), we'll add elevation equal to 10 meters plus a centimeter for every meter east along the grid (just to make it interesting):"
   ]
  },
  {
   "cell_type": "code",
   "execution_count": null,
   "metadata": {},
   "outputs": [],
   "source": [
    "z[mg.y_of_node >\n",
    "  fault_trace_y] += 10.0 + 0.01 * mg.x_of_node[mg.y_of_node > fault_trace_y]"
   ]
  },
  {
   "cell_type": "markdown",
   "metadata": {},
   "source": [
    "(A little bit of Python under the hood: the statement `mg.y_of_node > fault_trace_y` creates a 1000-element long boolean array; placing this within the index brackets will select only those array entries that correspond to `True` in the boolean array)\n",
    "\n",
    "Let's look at our newly created initial topography using Landlab's *imshow_node_grid* plotting function (which we first need to import)."
   ]
  },
  {
   "cell_type": "code",
   "execution_count": null,
   "metadata": {},
   "outputs": [],
   "source": [
    "from landlab.plot.imshow import imshow_grid\n",
    "imshow_grid(mg, 'topographic__elevation')"
   ]
  },
  {
   "cell_type": "markdown",
   "metadata": {},
   "source": [
    "To finish getting set up, we will define two parameters: the transport (\"diffusivity\") coefficient, `D`, and the time-step size, `dt`. (The latter is set using the Courant condition for a forward-time, centered-space finite-difference solution; you can find the explanation in most textbooks on numerical methods)."
   ]
  },
  {
   "cell_type": "code",
   "execution_count": null,
   "metadata": {},
   "outputs": [],
   "source": [
    "D = 0.01  # m2/yr transport coefficient\n",
    "dt = 0.2 * mg.dx * mg.dx / D\n",
    "dt"
   ]
  },
  {
   "cell_type": "markdown",
   "metadata": {},
   "source": [
    "Boundary conditions: for this example, we'll assume that the east and west sides are closed to flow of sediment, but that the north and south sides are open. (The order of the function arguments is east, north, west, south)"
   ]
  },
  {
   "cell_type": "code",
   "execution_count": null,
   "metadata": {},
   "outputs": [],
   "source": [
    "mg.set_closed_boundaries_at_grid_edges(True, False, True, False)"
   ]
  },
  {
   "cell_type": "markdown",
   "metadata": {},
   "source": [
    "*A note on boundaries:* with a Landlab raster grid, all the perimeter nodes are boundary nodes. In this example, there are 24 + 24 + 39 + 39 = 126 boundary nodes. The previous line of code set those on the east and west edges to be **closed boundaries**, while those on the north and south are **open boundaries** (the default). All the remaining nodes are known as **core** nodes. In this example, there are 1000 - 126 = 874 core nodes:"
   ]
  },
  {
   "cell_type": "code",
   "execution_count": null,
   "metadata": {},
   "outputs": [],
   "source": [
    "len(mg.core_nodes)"
   ]
  },
  {
   "cell_type": "markdown",
   "metadata": {},
   "source": [
    "One more thing before we run the time loop: we'll create an array to contain soil flux. In the function call below, the first argument tells Landlab that we want one value for each grid link, while the second argument provides a name for this data *field*:"
   ]
  },
  {
   "cell_type": "code",
   "execution_count": null,
   "metadata": {},
   "outputs": [],
   "source": [
    "qs = mg.add_zeros('sediment_flux', at='link')"
   ]
  },
  {
   "cell_type": "markdown",
   "metadata": {},
   "source": [
    "And now for some landform evolution. We will loop through 25 iterations, representing 50,000 years. On each pass through the loop, we do the following:\n",
    "\n",
    "1. Calculate, and store in the array `g`, the gradient between each neighboring pair of nodes. These calculations are done on **links**. The gradient value is a positive number when the gradient is \"uphill\" in the direction of the link, and negative when the gradient is \"downhill\" in the direction of the link. On a raster grid, link directions are always in the direction of increasing $x$ (\"horizontal\" links) or increasing $y$ (\"vertical\" links).\n",
    "\n",
    "2. Calculate, and store in the array `qs`, the sediment flux between each adjacent pair of nodes by multiplying their gradient by the transport coefficient. We will only do this for the **active links** (those not connected to a closed boundary, and not connecting two boundary nodes of any type); others will remain as zero.\n",
    "\n",
    "3. Calculate the resulting net flux at each node (positive=net outflux, negative=net influx). The negative of this array is the rate of change of elevation at each (core) node, so store it in a node array called `dzdt'.\n",
    "\n",
    "4. Update the elevations for the new time step."
   ]
  },
  {
   "cell_type": "code",
   "execution_count": null,
   "metadata": {},
   "outputs": [],
   "source": [
    "for i in range(25):\n",
    "    g = mg.calc_grad_at_link(z)\n",
    "    qs[mg.active_links] = -D * g[mg.active_links]\n",
    "    dzdt = -mg.calc_flux_div_at_node(qs)\n",
    "    z[mg.core_nodes] += dzdt[mg.core_nodes] * dt"
   ]
  },
  {
   "cell_type": "markdown",
   "metadata": {},
   "source": [
    "Let's look at how our fault scarp has evolved."
   ]
  },
  {
   "cell_type": "code",
   "execution_count": null,
   "metadata": {},
   "outputs": [],
   "source": [
    "imshow_grid(mg, 'topographic__elevation')"
   ]
  },
  {
   "cell_type": "markdown",
   "metadata": {},
   "source": [
    "Notice that we have just created and run a 2D model of fault-scarp creation and diffusion with fewer than two dozen lines of code. How long would this have taken to write in C or Fortran?\n",
    "\n",
    "While it was very very easy to write in 1D, writing this in 2D would mean we would have needed to keep track of the adjacency of the different parts of the grid. This is the primary problem that the Landlab grids are meant to solve. \n",
    "\n",
    "Think about how difficult this would be to hand code if the grid were irregular or hexagonal. In order to conserve mass and implement the differential equation you would need to know how nodes were conected, how long the links were, and how big each cell was.\n",
    "\n",
    "We do such an example after the next section. "
   ]
  },
  {
   "cell_type": "markdown",
   "metadata": {},
   "source": [
    "### (c) What's going on under the hood?\n",
    "\n",
    "This example uses a finite-volume numerical solution to the 2D diffusion equation. The 2D diffusion equation in this case is derived as follows. Continuity of mass states that:\n",
    "\n",
    "$\\frac{\\partial z}{\\partial t} = -\\nabla \\cdot \\mathbf{q}_s$,\n",
    "\n",
    "where $z$ is elevation, $t$ is time, the vector $\\mathbf{q}_s$ is the volumetric soil transport rate per unit width, and $\\nabla$ is the divergence operator (here in two dimensions). (Note that we have omitted a porosity factor here; its effect will be subsumed in the transport coefficient). The sediment flux vector depends on the slope gradient:\n",
    "\n",
    "$\\mathbf{q}_s = -D \\nabla z$,\n",
    "\n",
    "where $D$ is a transport-rate coefficient---sometimes called *hillslope diffusivity*---with dimensions of length squared per time. Combining the two, and assuming $D$ is uniform, we have a classical 2D diffusion equation:\n",
    "\n",
    "$\\frac{\\partial z}{\\partial t} = -\\nabla^2 z$.\n",
    "\n",
    "For the numerical solution, we discretize $z$ at a series of *nodes* on a grid. The example in this notebook uses a Landlab *RasterModelGrid*, in which every interior node sits inside a cell of width $\\Delta x$, but we could alternatively have used any grid type that provides nodes, links, and cells.\n",
    "\n",
    "The gradient and sediment flux vectors will be calculated at the *links* that connect each pair of adjacent nodes. These links correspond to the mid-points of the cell faces, and the values that we assign to links represent the gradients and fluxes, respectively, along the faces of the cells.\n",
    "\n",
    "The flux divergence, $\\nabla \\mathbf{q}_s$, will be calculated by summing, for every cell, the total volume inflows and outflows at each cell face, and dividing the resulting sum by the cell area. Note that for a regular, rectilinear grid, as we use in this example, this finite-volume method is equivalent to a finite-difference method.\n",
    "\n",
    "To advance the solution in time, we will use a simple explicit, forward-difference method. This solution scheme for a given node $i$ can be written:\n",
    "\n",
    "$\\frac{z_i^{t+1} - z_i^t}{\\Delta t} = -\\frac{1}{A_i} \\sum\\limits_{j=1}^{N_i} \\delta (l_{ij}) q_s (l_{ij}) \\lambda(l_{ij})$.\n",
    "\n",
    "Here the superscripts refer to time steps, $\\Delta t$ is time-step size, $q_s(l_{ij})$ is the sediment flux per width associated with the link that crosses the $j$-th face of the cell at node $i$, $\\lambda(l_{ij})$ is the width of the cell face associated with that link ($=\\Delta x$ for a regular uniform grid), and $N_i$ is the number of active links that connect to node $i$. The variable $\\delta(l_{ij})$ contains either +1 or -1: it is +1 if link $l_{ij}$ is oriented away from the node (in which case positive flux would represent material leaving its cell), or -1 if instead the link \"points\" into the cell (in which case positive flux means material is entering).\n",
    "\n",
    "To get the fluxes, we first calculate the *gradient*, $G$, at each link, $k$:\n",
    "\n",
    "$G(k) = \\frac{z(H_k) - z(T_k)}{L_k}$.\n",
    "\n",
    "Here $H_k$ refers the *head node* associated with link $k$, $T_k$ is the *tail node* associated with link $k$. Each link has a direction: from the tail node to the head node. The length of link $k$ is $L_k$ (equal to $\\Delta x$ is a regular uniform grid). What the above equation says is that the gradient in $z$ associated with each link is simply the difference in $z$ value between its two endpoint nodes, divided by the distance between them. The gradient is positive when the value at the head node (the \"tip\" of the link) is greater than the value at the tail node, and vice versa.\n",
    "\n",
    "The calculation of gradients in $z$ at the links is accomplished with the `calc_grad_at_link` function. The sediment fluxes are then calculated by multiplying the link gradients by $-D$. Once the fluxes at links have been established, the `calc_flux_div_at_node` function performs the summation of fluxes.\n",
    "\n",
    "## Part 3: Hexagonal grid\n",
    "\n",
    "Next we will use an non-raster Landlab grid.\n",
    "\n",
    "We start by making a random set of points with x values between 0 and 400 and y values of 0 and 250. We then add zeros to our grid at a field called \"topographic__elevation\" and plot the node locations. \n",
    "\n",
    "Note that the syntax here is exactly the same as in the RasterModelGrid example (once the grid has been created)."
   ]
  },
  {
   "cell_type": "code",
   "execution_count": null,
   "metadata": {},
   "outputs": [],
   "source": [
    "from landlab import HexModelGrid\n",
    "\n",
    "mg = HexModelGrid((25, 40), 10, node_layout=\"rect\")\n",
    "z = mg.add_zeros('topographic__elevation', at='node')\n",
    "plt.plot(mg.x_of_node, mg.y_of_node, '.')\n"
   ]
  },
  {
   "cell_type": "markdown",
   "metadata": {},
   "source": [
    "Next we create our fault trace and uplift the hanging wall. \n",
    "\n",
    "We can plot just like we did with the RasterModelGrid. "
   ]
  },
  {
   "cell_type": "code",
   "execution_count": null,
   "metadata": {},
   "outputs": [],
   "source": [
    "fault_trace_y = 50.0 + 0.25 * mg.x_of_node\n",
    "z[mg.y_of_node >\n",
    "  fault_trace_y] += 10.0 + 0.01 * mg.x_of_node[mg.y_of_node > fault_trace_y]\n",
    "imshow_grid(mg, \"topographic__elevation\")"
   ]
  },
  {
   "cell_type": "markdown",
   "metadata": {},
   "source": [
    "And we can use the same code as before to create a diffusion model!\n",
    "\n",
    "Landlab supports multiple grid types. You can read more about them [here](https://landlab.readthedocs.io/en/latest/reference/grid/index.html)."
   ]
  },
  {
   "cell_type": "code",
   "execution_count": null,
   "metadata": {},
   "outputs": [],
   "source": [
    "qs = mg.add_zeros('sediment_flux', at='link')\n",
    "for i in range(25):\n",
    "    g = mg.calc_grad_at_link(z)\n",
    "    qs[mg.active_links] = -D * g[mg.active_links]\n",
    "    dzdt = -mg.calc_flux_div_at_node(qs)\n",
    "    z[mg.core_nodes] += dzdt[mg.core_nodes] * dt\n",
    "imshow_grid(mg, 'topographic__elevation')"
   ]
  },
  {
   "cell_type": "markdown",
   "metadata": {},
   "source": [
    "## Part 3: Landlab Components\n",
    "\n",
    "Finally we will use a Landlab component, called the LinearDiffuser [link to its documentation](https://landlab.readthedocs.io/en/latest/reference/components/diffusion.html).\n",
    "\n",
    "Landlab was designed to have many of the utilities like `calc_grad_at_link`, and `calc_flux_divergence_at_node` to help you make your own models. Sometimes, however, you may use such a model over and over and over. Then it is nice to be able to put it in its own python class with a standard interface. \n",
    "\n",
    "This is what a Landlab Component is. \n",
    "\n",
    "There is a whole [tutorial on components](../component_tutorial/component_tutorial.ipynb) and a [page on the User Guide](https://landlab.readthedocs.io/en/latest/user_guide/components.html). For now we will just show you what the prior example looks like if we use the LinearDiffuser. \n",
    "\n",
    "First we import it, set up the grid, and uplift our fault block. "
   ]
  },
  {
   "cell_type": "code",
   "execution_count": null,
   "metadata": {},
   "outputs": [],
   "source": [
    "from landlab.components import LinearDiffuser\n",
    "\n",
    "mg = HexModelGrid((25, 40), 10, node_layout=\"rect\")\n",
    "z = mg.add_zeros('topographic__elevation', at='node')\n",
    "fault_trace_y = 50.0 + 0.25 * mg.x_of_node\n",
    "z[mg.y_of_node >\n",
    "  fault_trace_y] += 10.0 + 0.01 * mg.x_of_node[mg.y_of_node > fault_trace_y]"
   ]
  },
  {
   "cell_type": "markdown",
   "metadata": {},
   "source": [
    "Next we instantiate a LinearDiffuser. We have to tell the component what value to use for the diffusivity. "
   ]
  },
  {
   "cell_type": "code",
   "execution_count": null,
   "metadata": {},
   "outputs": [],
   "source": [
    "ld = LinearDiffuser(mg, linear_diffusivity=D)"
   ]
  },
  {
   "cell_type": "markdown",
   "metadata": {},
   "source": [
    "Finally we run the component forward in time and plot. Like many Landlab components, the LinearDiffuser has a method called \"run_one_step\" that takes one input, the timestep dt. Calling this method runs the LinearDiffuser forward in time by an increment dt. "
   ]
  },
  {
   "cell_type": "code",
   "execution_count": null,
   "metadata": {},
   "outputs": [],
   "source": [
    "for i in range(25):\n",
    "    ld.run_one_step(dt)\n",
    "imshow_grid(mg, 'topographic__elevation')"
   ]
  },
  {
   "cell_type": "markdown",
   "metadata": {},
   "source": [
    "Congratulations on making it to the end of this tutorial!\n",
    "\n",
    "### Click here for more <a href=\"https://landlab.readthedocs.io/en/latest/user_guide/tutorials.html\">Landlab tutorials</a>"
   ]
  }
 ],
 "metadata": {
  "anaconda-cloud": {},
  "kernelspec": {
   "display_name": "Python 3",
   "language": "python",
   "name": "python3"
  },
  "language_info": {
   "codemirror_mode": {
    "name": "ipython",
    "version": 3
   },
   "file_extension": ".py",
   "mimetype": "text/x-python",
   "name": "python",
   "nbconvert_exporter": "python",
   "pygments_lexer": "ipython3",
   "version": "3.7.6"
  }
 },
 "nbformat": 4,
 "nbformat_minor": 1
}
